{
 "cells": [
  {
   "cell_type": "markdown",
   "metadata": {
    "id": "S2Ttr6OUK9SI"
   },
   "source": [
    "# Telco Data\n",
    "Preparacion del ambiente general incluido el dataset. \n",
    "\n",
    "\n",
    "*Como es una etapa exploratoria para evitar compartirlo siempre meidante el drive, se publico el dataset en github para hacer mas facil su importacion.*"
   ]
  },
  {
   "cell_type": "code",
   "execution_count": 1,
   "metadata": {
    "colab": {
     "base_uri": "https://localhost:8080/",
     "height": 309
    },
    "executionInfo": {
     "elapsed": 557,
     "status": "ok",
     "timestamp": 1625668446570,
     "user": {
      "displayName": "juan jose lopez",
      "photoUrl": "",
      "userId": "13685427410952606081"
     },
     "user_tz": 180
    },
    "id": "0TSaVM-SKLF5",
    "outputId": "67bbf5ac-88f6-4276-d46d-3cfd0977c08b"
   },
   "outputs": [
    {
     "data": {
      "text/html": [
       "<div>\n",
       "<style scoped>\n",
       "    .dataframe tbody tr th:only-of-type {\n",
       "        vertical-align: middle;\n",
       "    }\n",
       "\n",
       "    .dataframe tbody tr th {\n",
       "        vertical-align: top;\n",
       "    }\n",
       "\n",
       "    .dataframe thead th {\n",
       "        text-align: right;\n",
       "    }\n",
       "</style>\n",
       "<table border=\"1\" class=\"dataframe\">\n",
       "  <thead>\n",
       "    <tr style=\"text-align: right;\">\n",
       "      <th></th>\n",
       "      <th>customerID</th>\n",
       "      <th>gender</th>\n",
       "      <th>SeniorCitizen</th>\n",
       "      <th>Partner</th>\n",
       "      <th>Dependents</th>\n",
       "      <th>tenure</th>\n",
       "      <th>PhoneService</th>\n",
       "      <th>MultipleLines</th>\n",
       "      <th>InternetService</th>\n",
       "      <th>OnlineSecurity</th>\n",
       "      <th>...</th>\n",
       "      <th>TechSupport</th>\n",
       "      <th>StreamingTV</th>\n",
       "      <th>StreamingMovies</th>\n",
       "      <th>Contract</th>\n",
       "      <th>PaperlessBilling</th>\n",
       "      <th>PaymentMethod</th>\n",
       "      <th>MonthlyCharges</th>\n",
       "      <th>TotalCharges</th>\n",
       "      <th>Churn</th>\n",
       "      <th>Columna1</th>\n",
       "    </tr>\n",
       "  </thead>\n",
       "  <tbody>\n",
       "    <tr>\n",
       "      <th>0</th>\n",
       "      <td>7644-OMVMY</td>\n",
       "      <td>Male</td>\n",
       "      <td>0.0</td>\n",
       "      <td>Yes</td>\n",
       "      <td>Yes</td>\n",
       "      <td>0.0</td>\n",
       "      <td>Yes</td>\n",
       "      <td>No</td>\n",
       "      <td>No</td>\n",
       "      <td>No internet service</td>\n",
       "      <td>...</td>\n",
       "      <td>No internet service</td>\n",
       "      <td>No internet service</td>\n",
       "      <td>No internet service</td>\n",
       "      <td>Two year</td>\n",
       "      <td>No</td>\n",
       "      <td>Mailed check</td>\n",
       "      <td>19,85</td>\n",
       "      <td>NaN</td>\n",
       "      <td>No</td>\n",
       "      <td>NaN</td>\n",
       "    </tr>\n",
       "    <tr>\n",
       "      <th>1</th>\n",
       "      <td>1371-DWPAZ</td>\n",
       "      <td>Female</td>\n",
       "      <td>0.0</td>\n",
       "      <td>Yes</td>\n",
       "      <td>Yes</td>\n",
       "      <td>0.0</td>\n",
       "      <td>No</td>\n",
       "      <td>No phone service</td>\n",
       "      <td>DSL</td>\n",
       "      <td>Yes</td>\n",
       "      <td>...</td>\n",
       "      <td>Yes</td>\n",
       "      <td>Yes</td>\n",
       "      <td>No</td>\n",
       "      <td>Two year</td>\n",
       "      <td>No</td>\n",
       "      <td>Credit card (automatic)</td>\n",
       "      <td>56,05</td>\n",
       "      <td>NaN</td>\n",
       "      <td>No</td>\n",
       "      <td>NaN</td>\n",
       "    </tr>\n",
       "    <tr>\n",
       "      <th>2</th>\n",
       "      <td>2520-SGTTA</td>\n",
       "      <td>Female</td>\n",
       "      <td>0.0</td>\n",
       "      <td>Yes</td>\n",
       "      <td>Yes</td>\n",
       "      <td>0.0</td>\n",
       "      <td>Yes</td>\n",
       "      <td>No</td>\n",
       "      <td>No</td>\n",
       "      <td>No internet service</td>\n",
       "      <td>...</td>\n",
       "      <td>No internet service</td>\n",
       "      <td>No internet service</td>\n",
       "      <td>No internet service</td>\n",
       "      <td>Two year</td>\n",
       "      <td>No</td>\n",
       "      <td>Mailed check</td>\n",
       "      <td>20,00</td>\n",
       "      <td>NaN</td>\n",
       "      <td>No</td>\n",
       "      <td>NaN</td>\n",
       "    </tr>\n",
       "    <tr>\n",
       "      <th>3</th>\n",
       "      <td>4367-NUYAO</td>\n",
       "      <td>Male</td>\n",
       "      <td>0.0</td>\n",
       "      <td>Yes</td>\n",
       "      <td>Yes</td>\n",
       "      <td>0.0</td>\n",
       "      <td>Yes</td>\n",
       "      <td>Yes</td>\n",
       "      <td>No</td>\n",
       "      <td>No internet service</td>\n",
       "      <td>...</td>\n",
       "      <td>No internet service</td>\n",
       "      <td>No internet service</td>\n",
       "      <td>No internet service</td>\n",
       "      <td>Two year</td>\n",
       "      <td>No</td>\n",
       "      <td>Mailed check</td>\n",
       "      <td>25,75</td>\n",
       "      <td>NaN</td>\n",
       "      <td>No</td>\n",
       "      <td>NaN</td>\n",
       "    </tr>\n",
       "    <tr>\n",
       "      <th>4</th>\n",
       "      <td>2923-ARZLG</td>\n",
       "      <td>Male</td>\n",
       "      <td>0.0</td>\n",
       "      <td>Yes</td>\n",
       "      <td>Yes</td>\n",
       "      <td>0.0</td>\n",
       "      <td>Yes</td>\n",
       "      <td>No</td>\n",
       "      <td>No</td>\n",
       "      <td>No internet service</td>\n",
       "      <td>...</td>\n",
       "      <td>No internet service</td>\n",
       "      <td>No internet service</td>\n",
       "      <td>No internet service</td>\n",
       "      <td>One year</td>\n",
       "      <td>Yes</td>\n",
       "      <td>Mailed check</td>\n",
       "      <td>19,70</td>\n",
       "      <td>NaN</td>\n",
       "      <td>No</td>\n",
       "      <td>NaN</td>\n",
       "    </tr>\n",
       "  </tbody>\n",
       "</table>\n",
       "<p>5 rows × 23 columns</p>\n",
       "</div>"
      ],
      "text/plain": [
       "   customerID  gender  SeniorCitizen Partner Dependents  tenure PhoneService  \\\n",
       "0  7644-OMVMY    Male            0.0     Yes        Yes     0.0          Yes   \n",
       "1  1371-DWPAZ  Female            0.0     Yes        Yes     0.0           No   \n",
       "2  2520-SGTTA  Female            0.0     Yes        Yes     0.0          Yes   \n",
       "3  4367-NUYAO    Male            0.0     Yes        Yes     0.0          Yes   \n",
       "4  2923-ARZLG    Male            0.0     Yes        Yes     0.0          Yes   \n",
       "\n",
       "      MultipleLines InternetService       OnlineSecurity  ...  \\\n",
       "0                No              No  No internet service  ...   \n",
       "1  No phone service             DSL                  Yes  ...   \n",
       "2                No              No  No internet service  ...   \n",
       "3               Yes              No  No internet service  ...   \n",
       "4                No              No  No internet service  ...   \n",
       "\n",
       "           TechSupport          StreamingTV      StreamingMovies  Contract  \\\n",
       "0  No internet service  No internet service  No internet service  Two year   \n",
       "1                  Yes                  Yes                   No  Two year   \n",
       "2  No internet service  No internet service  No internet service  Two year   \n",
       "3  No internet service  No internet service  No internet service  Two year   \n",
       "4  No internet service  No internet service  No internet service  One year   \n",
       "\n",
       "  PaperlessBilling            PaymentMethod MonthlyCharges TotalCharges Churn  \\\n",
       "0               No             Mailed check          19,85          NaN    No   \n",
       "1               No  Credit card (automatic)          56,05          NaN    No   \n",
       "2               No             Mailed check          20,00          NaN    No   \n",
       "3               No             Mailed check          25,75          NaN    No   \n",
       "4              Yes             Mailed check          19,70          NaN    No   \n",
       "\n",
       "  Columna1  \n",
       "0      NaN  \n",
       "1      NaN  \n",
       "2      NaN  \n",
       "3      NaN  \n",
       "4      NaN  \n",
       "\n",
       "[5 rows x 23 columns]"
      ]
     },
     "execution_count": 1,
     "metadata": {},
     "output_type": "execute_result"
    }
   ],
   "source": [
    "import matplotlib.pyplot as plt\n",
    "import numpy as np\n",
    "import pandas as pd\n",
    "import seaborn as snb\n",
    "#import plotly\n",
    "\n",
    "\n",
    "# from google.colab import drive\n",
    "# drive.mount('/content/drive')\n",
    "# df = pd.read_csv(\"/content/drive/MyDrive/Diplomatura/TP/telco_churn.train.csv\", encoding='latin-1', sep=';')\n",
    "dataset_link = \"https://raw.githubusercontent.com/nuxion/data_eda/main/telco_churn.train.csv\"\n",
    "\n",
    "df = pd.read_csv(dataset_link, encoding='UTF-8', sep=';')\n",
    "df.head(5)"
   ]
  },
  {
   "cell_type": "markdown",
   "metadata": {
    "id": "h58iLfSZMZC4"
   },
   "source": [
    "**Variables**\n",
    "\n",
    "![img](https://raw.githubusercontent.com/nuxion/data_eda/main/variables.png) "
   ]
  },
  {
   "cell_type": "code",
   "execution_count": 2,
   "metadata": {
    "colab": {
     "base_uri": "https://localhost:8080/"
    },
    "executionInfo": {
     "elapsed": 939,
     "status": "ok",
     "timestamp": 1625668454116,
     "user": {
      "displayName": "juan jose lopez",
      "photoUrl": "",
      "userId": "13685427410952606081"
     },
     "user_tz": 180
    },
    "id": "N35M1Wu_Mp-I",
    "outputId": "76bbcefc-5d1b-45f2-a83c-7d12274aa9b0"
   },
   "outputs": [
    {
     "name": "stdout",
     "output_type": "stream",
     "text": [
      "<class 'pandas.core.frame.DataFrame'>\n",
      "RangeIndex: 7044 entries, 0 to 7043\n",
      "Data columns (total 23 columns):\n",
      " #   Column            Non-Null Count  Dtype  \n",
      "---  ------            --------------  -----  \n",
      " 0   customerID        7043 non-null   object \n",
      " 1   gender            7043 non-null   object \n",
      " 2   SeniorCitizen     7043 non-null   float64\n",
      " 3   Partner           7043 non-null   object \n",
      " 4   Dependents        7043 non-null   object \n",
      " 5   tenure            7043 non-null   float64\n",
      " 6   PhoneService      7043 non-null   object \n",
      " 7   MultipleLines     7043 non-null   object \n",
      " 8   InternetService   7043 non-null   object \n",
      " 9   OnlineSecurity    7043 non-null   object \n",
      " 10  control           7043 non-null   object \n",
      " 11  OnlineBackup      7044 non-null   object \n",
      " 12  DeviceProtection  7043 non-null   object \n",
      " 13  TechSupport       7043 non-null   object \n",
      " 14  StreamingTV       7043 non-null   object \n",
      " 15  StreamingMovies   7043 non-null   object \n",
      " 16  Contract          7042 non-null   object \n",
      " 17  PaperlessBilling  7043 non-null   object \n",
      " 18  PaymentMethod     7037 non-null   object \n",
      " 19  MonthlyCharges    7044 non-null   object \n",
      " 20  TotalCharges      7032 non-null   object \n",
      " 21  Churn             7043 non-null   object \n",
      " 22  Columna1          1 non-null      object \n",
      "dtypes: float64(2), object(21)\n",
      "memory usage: 1.2+ MB\n"
     ]
    }
   ],
   "source": [
    "df.info()\n"
   ]
  },
  {
   "cell_type": "code",
   "execution_count": 3,
   "metadata": {
    "colab": {
     "base_uri": "https://localhost:8080/"
    },
    "executionInfo": {
     "elapsed": 692,
     "status": "ok",
     "timestamp": 1625668459507,
     "user": {
      "displayName": "juan jose lopez",
      "photoUrl": "",
      "userId": "13685427410952606081"
     },
     "user_tz": 180
    },
    "id": "-wgBx8t1Ob1Y",
    "outputId": "0e635071-9ca7-4c5c-82af-f4308e762be0"
   },
   "outputs": [
    {
     "data": {
      "text/plain": [
       "customerID             1\n",
       "gender                 1\n",
       "SeniorCitizen          1\n",
       "Partner                1\n",
       "Dependents             1\n",
       "tenure                 1\n",
       "PhoneService           1\n",
       "MultipleLines          1\n",
       "InternetService        1\n",
       "OnlineSecurity         1\n",
       "control                1\n",
       "OnlineBackup           0\n",
       "DeviceProtection       1\n",
       "TechSupport            1\n",
       "StreamingTV            1\n",
       "StreamingMovies        1\n",
       "Contract               2\n",
       "PaperlessBilling       1\n",
       "PaymentMethod          7\n",
       "MonthlyCharges         0\n",
       "TotalCharges          12\n",
       "Churn                  1\n",
       "Columna1            7043\n",
       "dtype: int64"
      ]
     },
     "execution_count": 3,
     "metadata": {},
     "output_type": "execute_result"
    }
   ],
   "source": [
    "df.isna().sum()"
   ]
  },
  {
   "cell_type": "markdown",
   "metadata": {
    "id": "IoyGPUu6UvvF"
   },
   "source": [
    "## Etapa de limpieza del dataset"
   ]
  },
  {
   "cell_type": "markdown",
   "metadata": {
    "id": "tLCxm6FXPwru"
   },
   "source": [
    "De un primera iteracion se observa:\n",
    "1. Columnas que no corresponden con lo esperado del dataset\n",
    "2. Datos numericos que pandas los reconocio como objects\n",
    "3. Valores nulos en varias columnas.\n",
    "4. Varias columnas pueden ser definidas como categorias y se agrupan algunas de ellas\n",
    "\n"
   ]
  },
  {
   "cell_type": "markdown",
   "metadata": {},
   "source": [
    "1. Elimino columnas"
   ]
  },
  {
   "cell_type": "code",
   "execution_count": 4,
   "metadata": {
    "colab": {
     "base_uri": "https://localhost:8080/"
    },
    "executionInfo": {
     "elapsed": 12,
     "status": "ok",
     "timestamp": 1625668463751,
     "user": {
      "displayName": "juan jose lopez",
      "photoUrl": "",
      "userId": "13685427410952606081"
     },
     "user_tz": 180
    },
    "id": "sxZ28wpKPSB1",
    "outputId": "15e700db-939b-4626-8676-c20fbc2c03fc"
   },
   "outputs": [
    {
     "data": {
      "text/plain": [
       "array([' ', '0', nan, '..'], dtype=object)"
      ]
     },
     "execution_count": 4,
     "metadata": {},
     "output_type": "execute_result"
    }
   ],
   "source": [
    "df[\"control\"].unique()"
   ]
  },
  {
   "cell_type": "code",
   "execution_count": 5,
   "metadata": {
    "executionInfo": {
     "elapsed": 10,
     "status": "ok",
     "timestamp": 1625668465506,
     "user": {
      "displayName": "juan jose lopez",
      "photoUrl": "",
      "userId": "13685427410952606081"
     },
     "user_tz": 180
    },
    "id": "4eTpUFg4Pvrv"
   },
   "outputs": [],
   "source": [
    "df.drop([\"control\", \"Columna1\"], axis=1, inplace=True) # puedo borrar las columnas, no tienen información relevante"
   ]
  },
  {
   "cell_type": "markdown",
   "metadata": {
    "id": "LmA2ALcOUPss"
   },
   "source": [
    "2. Como falla la conversion a float porque se encuentran distintos tipos de datos se arma una funcion custom que ante la imposibilidad de **no poder convertir** algunos de los valores estable al dato un `numpy.NaN` value."
   ]
  },
  {
   "cell_type": "code",
   "execution_count": 6,
   "metadata": {
    "colab": {
     "base_uri": "https://localhost:8080/"
    },
    "executionInfo": {
     "elapsed": 14,
     "status": "ok",
     "timestamp": 1625668309210,
     "user": {
      "displayName": "juan jose lopez",
      "photoUrl": "",
      "userId": "13685427410952606081"
     },
     "user_tz": 180
    },
    "id": "ypQVfRDoTLQ5",
    "outputId": "edcdfb69-7ddf-4cba-c4ab-c00dfdedc2a2"
   },
   "outputs": [
    {
     "name": "stdout",
     "output_type": "stream",
     "text": [
      "<class 'str'>\n",
      " 19,85\n"
     ]
    }
   ],
   "source": [
    "def to_float(x):\n",
    "  \"\"\"\n",
    "  Convierte de string a numpy.single type que seria equivalente \n",
    "  al float en python, pero como hay valores Nan (por eso el try except)\n",
    "  utilizo numpy para poder setear el tipo np.Nan cuando no pueda convertirlo\n",
    "  Posible valores esperados:\n",
    "\n",
    "  \" 61,90 \"\n",
    "  Resultado:\n",
    "  61.90\n",
    "  \"\"\"\n",
    "  try:\n",
    "    if isinstance(x, float):\n",
    "      val = x\n",
    "    else:\n",
    "      val = float(x.strip().replace(',', '.'))\n",
    "  except ValueError:\n",
    "    val = np.NaN\n",
    "  return np.single(val)\n",
    "\n",
    "# Selecciono un con un conjunto reducido para probar\n",
    "data = df[\"MonthlyCharges\"].iloc[0:5]\n",
    "print(type(data[0]))\n",
    "print(data[0])\n",
    "\n",
    "# Verifico que funcione\n",
    "for x in data: \n",
    "  assert isinstance(to_float(x), np.single)\n"
   ]
  },
  {
   "cell_type": "code",
   "execution_count": 7,
   "metadata": {
    "id": "59FKtKblTYDV"
   },
   "outputs": [],
   "source": [
    "df[\"MonthlyCharges\"] = df.apply(lambda x: to_float(x[\"MonthlyCharges\"]), axis=1)\n",
    "df[\"TotalCharges\"] = df.apply(lambda x: to_float(x[\"TotalCharges\"]), axis=1)"
   ]
  },
  {
   "cell_type": "code",
   "execution_count": 8,
   "metadata": {
    "colab": {
     "base_uri": "https://localhost:8080/"
    },
    "executionInfo": {
     "elapsed": 12,
     "status": "ok",
     "timestamp": 1625667223609,
     "user": {
      "displayName": "juan jose lopez",
      "photoUrl": "",
      "userId": "13685427410952606081"
     },
     "user_tz": 180
    },
    "id": "l1pK8xoVTruY",
    "outputId": "a5f5e079-b392-429d-8ca3-53d44a4b366d"
   },
   "outputs": [
    {
     "data": {
      "text/plain": [
       "customerID           1\n",
       "gender               1\n",
       "SeniorCitizen        1\n",
       "Partner              1\n",
       "Dependents           1\n",
       "tenure               1\n",
       "PhoneService         1\n",
       "MultipleLines        1\n",
       "InternetService      1\n",
       "OnlineSecurity       1\n",
       "OnlineBackup         0\n",
       "DeviceProtection     1\n",
       "TechSupport          1\n",
       "StreamingTV          1\n",
       "StreamingMovies      1\n",
       "Contract             2\n",
       "PaperlessBilling     1\n",
       "PaymentMethod        7\n",
       "MonthlyCharges       1\n",
       "TotalCharges        12\n",
       "Churn                1\n",
       "dtype: int64"
      ]
     },
     "execution_count": 8,
     "metadata": {},
     "output_type": "execute_result"
    }
   ],
   "source": [
    "df.isna().sum() # tomar una decision respecto a los valores nulos"
   ]
  },
  {
   "cell_type": "markdown",
   "metadata": {
    "id": "ZdLgvL-NzoQ1"
   },
   "source": [
    "PRIMERO HABRIA QUE LIMPIAR LOS VALORES NULOS (hay una fila con todos nan y despues definir lo que queda en las columnas restantes)"
   ]
  },
  {
   "cell_type": "code",
   "execution_count": 9,
   "metadata": {
    "id": "eY24yd0Ozm3d"
   },
   "outputs": [
    {
     "data": {
      "text/html": [
       "<div>\n",
       "<style scoped>\n",
       "    .dataframe tbody tr th:only-of-type {\n",
       "        vertical-align: middle;\n",
       "    }\n",
       "\n",
       "    .dataframe tbody tr th {\n",
       "        vertical-align: top;\n",
       "    }\n",
       "\n",
       "    .dataframe thead th {\n",
       "        text-align: right;\n",
       "    }\n",
       "</style>\n",
       "<table border=\"1\" class=\"dataframe\">\n",
       "  <thead>\n",
       "    <tr style=\"text-align: right;\">\n",
       "      <th></th>\n",
       "      <th>customerID</th>\n",
       "      <th>gender</th>\n",
       "      <th>SeniorCitizen</th>\n",
       "      <th>Partner</th>\n",
       "      <th>Dependents</th>\n",
       "      <th>tenure</th>\n",
       "      <th>PhoneService</th>\n",
       "      <th>MultipleLines</th>\n",
       "      <th>InternetService</th>\n",
       "      <th>OnlineSecurity</th>\n",
       "      <th>...</th>\n",
       "      <th>DeviceProtection</th>\n",
       "      <th>TechSupport</th>\n",
       "      <th>StreamingTV</th>\n",
       "      <th>StreamingMovies</th>\n",
       "      <th>Contract</th>\n",
       "      <th>PaperlessBilling</th>\n",
       "      <th>PaymentMethod</th>\n",
       "      <th>MonthlyCharges</th>\n",
       "      <th>TotalCharges</th>\n",
       "      <th>Churn</th>\n",
       "    </tr>\n",
       "  </thead>\n",
       "  <tbody>\n",
       "    <tr>\n",
       "      <th>0</th>\n",
       "      <td>7644-OMVMY</td>\n",
       "      <td>Male</td>\n",
       "      <td>0.0</td>\n",
       "      <td>Yes</td>\n",
       "      <td>Yes</td>\n",
       "      <td>0.0</td>\n",
       "      <td>Yes</td>\n",
       "      <td>No</td>\n",
       "      <td>No</td>\n",
       "      <td>No internet service</td>\n",
       "      <td>...</td>\n",
       "      <td>No internet service</td>\n",
       "      <td>No internet service</td>\n",
       "      <td>No internet service</td>\n",
       "      <td>No internet service</td>\n",
       "      <td>Two year</td>\n",
       "      <td>No</td>\n",
       "      <td>Mailed check</td>\n",
       "      <td>19.850000</td>\n",
       "      <td>NaN</td>\n",
       "      <td>No</td>\n",
       "    </tr>\n",
       "    <tr>\n",
       "      <th>1</th>\n",
       "      <td>1371-DWPAZ</td>\n",
       "      <td>Female</td>\n",
       "      <td>0.0</td>\n",
       "      <td>Yes</td>\n",
       "      <td>Yes</td>\n",
       "      <td>0.0</td>\n",
       "      <td>No</td>\n",
       "      <td>No phone service</td>\n",
       "      <td>DSL</td>\n",
       "      <td>Yes</td>\n",
       "      <td>...</td>\n",
       "      <td>Yes</td>\n",
       "      <td>Yes</td>\n",
       "      <td>Yes</td>\n",
       "      <td>No</td>\n",
       "      <td>Two year</td>\n",
       "      <td>No</td>\n",
       "      <td>Credit card (automatic)</td>\n",
       "      <td>56.049999</td>\n",
       "      <td>NaN</td>\n",
       "      <td>No</td>\n",
       "    </tr>\n",
       "    <tr>\n",
       "      <th>2</th>\n",
       "      <td>2520-SGTTA</td>\n",
       "      <td>Female</td>\n",
       "      <td>0.0</td>\n",
       "      <td>Yes</td>\n",
       "      <td>Yes</td>\n",
       "      <td>0.0</td>\n",
       "      <td>Yes</td>\n",
       "      <td>No</td>\n",
       "      <td>No</td>\n",
       "      <td>No internet service</td>\n",
       "      <td>...</td>\n",
       "      <td>No internet service</td>\n",
       "      <td>No internet service</td>\n",
       "      <td>No internet service</td>\n",
       "      <td>No internet service</td>\n",
       "      <td>Two year</td>\n",
       "      <td>No</td>\n",
       "      <td>Mailed check</td>\n",
       "      <td>20.000000</td>\n",
       "      <td>NaN</td>\n",
       "      <td>No</td>\n",
       "    </tr>\n",
       "    <tr>\n",
       "      <th>3</th>\n",
       "      <td>4367-NUYAO</td>\n",
       "      <td>Male</td>\n",
       "      <td>0.0</td>\n",
       "      <td>Yes</td>\n",
       "      <td>Yes</td>\n",
       "      <td>0.0</td>\n",
       "      <td>Yes</td>\n",
       "      <td>Yes</td>\n",
       "      <td>No</td>\n",
       "      <td>No internet service</td>\n",
       "      <td>...</td>\n",
       "      <td>No internet service</td>\n",
       "      <td>No internet service</td>\n",
       "      <td>No internet service</td>\n",
       "      <td>No internet service</td>\n",
       "      <td>Two year</td>\n",
       "      <td>No</td>\n",
       "      <td>Mailed check</td>\n",
       "      <td>25.750000</td>\n",
       "      <td>NaN</td>\n",
       "      <td>No</td>\n",
       "    </tr>\n",
       "    <tr>\n",
       "      <th>4</th>\n",
       "      <td>2923-ARZLG</td>\n",
       "      <td>Male</td>\n",
       "      <td>0.0</td>\n",
       "      <td>Yes</td>\n",
       "      <td>Yes</td>\n",
       "      <td>0.0</td>\n",
       "      <td>Yes</td>\n",
       "      <td>No</td>\n",
       "      <td>No</td>\n",
       "      <td>No internet service</td>\n",
       "      <td>...</td>\n",
       "      <td>No internet service</td>\n",
       "      <td>No internet service</td>\n",
       "      <td>No internet service</td>\n",
       "      <td>No internet service</td>\n",
       "      <td>One year</td>\n",
       "      <td>Yes</td>\n",
       "      <td>Mailed check</td>\n",
       "      <td>19.700001</td>\n",
       "      <td>NaN</td>\n",
       "      <td>No</td>\n",
       "    </tr>\n",
       "    <tr>\n",
       "      <th>5</th>\n",
       "      <td>NaN</td>\n",
       "      <td>NaN</td>\n",
       "      <td>NaN</td>\n",
       "      <td>NaN</td>\n",
       "      <td>NaN</td>\n",
       "      <td>NaN</td>\n",
       "      <td>NaN</td>\n",
       "      <td>NaN</td>\n",
       "      <td>NaN</td>\n",
       "      <td>NaN</td>\n",
       "      <td>...</td>\n",
       "      <td>NaN</td>\n",
       "      <td>NaN</td>\n",
       "      <td>NaN</td>\n",
       "      <td>NaN</td>\n",
       "      <td>NaN</td>\n",
       "      <td>NaN</td>\n",
       "      <td>NaN</td>\n",
       "      <td>NaN</td>\n",
       "      <td>NaN</td>\n",
       "      <td>NaN</td>\n",
       "    </tr>\n",
       "    <tr>\n",
       "      <th>6</th>\n",
       "      <td>5709-LVOEQ</td>\n",
       "      <td>Female</td>\n",
       "      <td>0.0</td>\n",
       "      <td>Yes</td>\n",
       "      <td>Yes</td>\n",
       "      <td>0.0</td>\n",
       "      <td>Yes</td>\n",
       "      <td>No</td>\n",
       "      <td>DSL</td>\n",
       "      <td>Yes</td>\n",
       "      <td>...</td>\n",
       "      <td>Yes</td>\n",
       "      <td>No</td>\n",
       "      <td>Yes</td>\n",
       "      <td>Yes</td>\n",
       "      <td>Two year</td>\n",
       "      <td>No</td>\n",
       "      <td>Mailed check</td>\n",
       "      <td>80.849998</td>\n",
       "      <td>NaN</td>\n",
       "      <td>No</td>\n",
       "    </tr>\n",
       "    <tr>\n",
       "      <th>7</th>\n",
       "      <td>3213-VVOLG</td>\n",
       "      <td>Male</td>\n",
       "      <td>0.0</td>\n",
       "      <td>Yes</td>\n",
       "      <td>Yes</td>\n",
       "      <td>0.0</td>\n",
       "      <td>Yes</td>\n",
       "      <td>Yes</td>\n",
       "      <td>No</td>\n",
       "      <td>No internet service</td>\n",
       "      <td>...</td>\n",
       "      <td>No internet service</td>\n",
       "      <td>No internet service</td>\n",
       "      <td>No internet service</td>\n",
       "      <td>No internet service</td>\n",
       "      <td>Two year</td>\n",
       "      <td>No</td>\n",
       "      <td>Mailed check</td>\n",
       "      <td>25.350000</td>\n",
       "      <td>NaN</td>\n",
       "      <td>No</td>\n",
       "    </tr>\n",
       "    <tr>\n",
       "      <th>8</th>\n",
       "      <td>4075-WKNIU</td>\n",
       "      <td>Female</td>\n",
       "      <td>0.0</td>\n",
       "      <td>Yes</td>\n",
       "      <td>Yes</td>\n",
       "      <td>0.0</td>\n",
       "      <td>Yes</td>\n",
       "      <td>Yes</td>\n",
       "      <td>DSL</td>\n",
       "      <td>No</td>\n",
       "      <td>...</td>\n",
       "      <td>Yes</td>\n",
       "      <td>Yes</td>\n",
       "      <td>Yes</td>\n",
       "      <td>No</td>\n",
       "      <td>Two year</td>\n",
       "      <td>No</td>\n",
       "      <td>Mailed check</td>\n",
       "      <td>73.349998</td>\n",
       "      <td>NaN</td>\n",
       "      <td>No</td>\n",
       "    </tr>\n",
       "    <tr>\n",
       "      <th>9</th>\n",
       "      <td>4472-LVYGI</td>\n",
       "      <td>Female</td>\n",
       "      <td>0.0</td>\n",
       "      <td>Yes</td>\n",
       "      <td>Yes</td>\n",
       "      <td>0.0</td>\n",
       "      <td>No</td>\n",
       "      <td>No phone service</td>\n",
       "      <td>DSL</td>\n",
       "      <td>Yes</td>\n",
       "      <td>...</td>\n",
       "      <td>Yes</td>\n",
       "      <td>Yes</td>\n",
       "      <td>Yes</td>\n",
       "      <td>No</td>\n",
       "      <td>Two year</td>\n",
       "      <td>Yes</td>\n",
       "      <td>Bank transfer (automatic)</td>\n",
       "      <td>52.549999</td>\n",
       "      <td>NaN</td>\n",
       "      <td>No</td>\n",
       "    </tr>\n",
       "    <tr>\n",
       "      <th>10</th>\n",
       "      <td>2775-SEFEE</td>\n",
       "      <td>Male</td>\n",
       "      <td>0.0</td>\n",
       "      <td>No</td>\n",
       "      <td>Yes</td>\n",
       "      <td>0.0</td>\n",
       "      <td>Yes</td>\n",
       "      <td>Yes</td>\n",
       "      <td>DSL</td>\n",
       "      <td>Yes</td>\n",
       "      <td>...</td>\n",
       "      <td>No</td>\n",
       "      <td>Yes</td>\n",
       "      <td>No</td>\n",
       "      <td>No</td>\n",
       "      <td>Two year</td>\n",
       "      <td>Yes</td>\n",
       "      <td>Bank transfer (automatic)</td>\n",
       "      <td>61.900002</td>\n",
       "      <td>NaN</td>\n",
       "      <td>No</td>\n",
       "    </tr>\n",
       "    <tr>\n",
       "      <th>11</th>\n",
       "      <td>3115-CZMZD</td>\n",
       "      <td>Male</td>\n",
       "      <td>0.0</td>\n",
       "      <td>No</td>\n",
       "      <td>Yes</td>\n",
       "      <td>0.0</td>\n",
       "      <td>Yes</td>\n",
       "      <td>No</td>\n",
       "      <td>No</td>\n",
       "      <td>No internet service</td>\n",
       "      <td>...</td>\n",
       "      <td>No internet service</td>\n",
       "      <td>No internet service</td>\n",
       "      <td>No internet service</td>\n",
       "      <td>No internet service</td>\n",
       "      <td>Two year</td>\n",
       "      <td>No</td>\n",
       "      <td>Mailed check</td>\n",
       "      <td>20.250000</td>\n",
       "      <td>NaN</td>\n",
       "      <td>No</td>\n",
       "    </tr>\n",
       "    <tr>\n",
       "      <th>338</th>\n",
       "      <td>3165-HDOEW</td>\n",
       "      <td>Male</td>\n",
       "      <td>0.0</td>\n",
       "      <td>Yes</td>\n",
       "      <td>Yes</td>\n",
       "      <td>1.0</td>\n",
       "      <td>Yes</td>\n",
       "      <td>No</td>\n",
       "      <td>DSL</td>\n",
       "      <td>No</td>\n",
       "      <td>...</td>\n",
       "      <td>No</td>\n",
       "      <td>No</td>\n",
       "      <td>No</td>\n",
       "      <td>No</td>\n",
       "      <td>Month-to-month</td>\n",
       "      <td>Yes</td>\n",
       "      <td>NaN</td>\n",
       "      <td>45.849998</td>\n",
       "      <td>45.849998</td>\n",
       "      <td>Yes</td>\n",
       "    </tr>\n",
       "    <tr>\n",
       "      <th>632</th>\n",
       "      <td>6894-LFHLY</td>\n",
       "      <td>Male</td>\n",
       "      <td>1.0</td>\n",
       "      <td>No</td>\n",
       "      <td>No</td>\n",
       "      <td>1.0</td>\n",
       "      <td>Yes</td>\n",
       "      <td>Yes</td>\n",
       "      <td>Fiber optic</td>\n",
       "      <td>No</td>\n",
       "      <td>...</td>\n",
       "      <td>No</td>\n",
       "      <td>No</td>\n",
       "      <td>No</td>\n",
       "      <td>No</td>\n",
       "      <td>Month-to-month</td>\n",
       "      <td>Yes</td>\n",
       "      <td>NaN</td>\n",
       "      <td>75.750000</td>\n",
       "      <td>75.750000</td>\n",
       "      <td>Yes</td>\n",
       "    </tr>\n",
       "    <tr>\n",
       "      <th>968</th>\n",
       "      <td>1618-CFHME</td>\n",
       "      <td>Female</td>\n",
       "      <td>0.0</td>\n",
       "      <td>No</td>\n",
       "      <td>No</td>\n",
       "      <td>2.0</td>\n",
       "      <td>Yes</td>\n",
       "      <td>Yes</td>\n",
       "      <td>Fiber optic</td>\n",
       "      <td>No</td>\n",
       "      <td>...</td>\n",
       "      <td>No</td>\n",
       "      <td>No</td>\n",
       "      <td>No</td>\n",
       "      <td>No</td>\n",
       "      <td>Month-to-month</td>\n",
       "      <td>Yes</td>\n",
       "      <td>NaN</td>\n",
       "      <td>75.900002</td>\n",
       "      <td>143.350006</td>\n",
       "      <td>Yes</td>\n",
       "    </tr>\n",
       "    <tr>\n",
       "      <th>2581</th>\n",
       "      <td>6581-NQCBA</td>\n",
       "      <td>Female</td>\n",
       "      <td>0.0</td>\n",
       "      <td>Yes</td>\n",
       "      <td>No</td>\n",
       "      <td>16.0</td>\n",
       "      <td>No</td>\n",
       "      <td>No phone service</td>\n",
       "      <td>DSL</td>\n",
       "      <td>No</td>\n",
       "      <td>...</td>\n",
       "      <td>No</td>\n",
       "      <td>Yes</td>\n",
       "      <td>Yes</td>\n",
       "      <td>Yes</td>\n",
       "      <td>Month-to-month</td>\n",
       "      <td>Yes</td>\n",
       "      <td>NaN</td>\n",
       "      <td>49.950001</td>\n",
       "      <td>810.200012</td>\n",
       "      <td>Yes</td>\n",
       "    </tr>\n",
       "    <tr>\n",
       "      <th>4625</th>\n",
       "      <td>9767-FFLEM</td>\n",
       "      <td>Male</td>\n",
       "      <td>0.0</td>\n",
       "      <td>No</td>\n",
       "      <td>No</td>\n",
       "      <td>38.0</td>\n",
       "      <td>Yes</td>\n",
       "      <td>No</td>\n",
       "      <td>Fiber_optic</td>\n",
       "      <td>No</td>\n",
       "      <td>...</td>\n",
       "      <td>No</td>\n",
       "      <td>No</td>\n",
       "      <td>No</td>\n",
       "      <td>No</td>\n",
       "      <td>Month-to-month</td>\n",
       "      <td>Yes</td>\n",
       "      <td>NaN</td>\n",
       "      <td>69.500000</td>\n",
       "      <td>2625.250000</td>\n",
       "      <td>No</td>\n",
       "    </tr>\n",
       "    <tr>\n",
       "      <th>5621</th>\n",
       "      <td>9091-WTUUY</td>\n",
       "      <td>Male</td>\n",
       "      <td>0.0</td>\n",
       "      <td>Yes</td>\n",
       "      <td>Yes</td>\n",
       "      <td>64.0</td>\n",
       "      <td>Yes</td>\n",
       "      <td>No</td>\n",
       "      <td>DSL</td>\n",
       "      <td>Yes</td>\n",
       "      <td>...</td>\n",
       "      <td>Yes</td>\n",
       "      <td>Yes</td>\n",
       "      <td>Yes</td>\n",
       "      <td>No</td>\n",
       "      <td>Two year</td>\n",
       "      <td>No</td>\n",
       "      <td>NaN</td>\n",
       "      <td>69.250000</td>\n",
       "      <td>4447.750000</td>\n",
       "      <td>No</td>\n",
       "    </tr>\n",
       "    <tr>\n",
       "      <th>6542</th>\n",
       "      <td>1035-IPQPU</td>\n",
       "      <td>Female</td>\n",
       "      <td>1.0</td>\n",
       "      <td>Yes</td>\n",
       "      <td>No</td>\n",
       "      <td>63.0</td>\n",
       "      <td>Yes</td>\n",
       "      <td>Yes</td>\n",
       "      <td>Fiber optic</td>\n",
       "      <td>No</td>\n",
       "      <td>...</td>\n",
       "      <td>Yes</td>\n",
       "      <td>No</td>\n",
       "      <td>Yes</td>\n",
       "      <td>Yes</td>\n",
       "      <td>NaN</td>\n",
       "      <td>Yes</td>\n",
       "      <td>Electronic check</td>\n",
       "      <td>103.500000</td>\n",
       "      <td>6479.399902</td>\n",
       "      <td>No</td>\n",
       "    </tr>\n",
       "  </tbody>\n",
       "</table>\n",
       "<p>19 rows × 21 columns</p>\n",
       "</div>"
      ],
      "text/plain": [
       "      customerID  gender  SeniorCitizen Partner Dependents  tenure  \\\n",
       "0     7644-OMVMY    Male            0.0     Yes        Yes     0.0   \n",
       "1     1371-DWPAZ  Female            0.0     Yes        Yes     0.0   \n",
       "2     2520-SGTTA  Female            0.0     Yes        Yes     0.0   \n",
       "3     4367-NUYAO    Male            0.0     Yes        Yes     0.0   \n",
       "4     2923-ARZLG    Male            0.0     Yes        Yes     0.0   \n",
       "5            NaN     NaN            NaN     NaN        NaN     NaN   \n",
       "6     5709-LVOEQ  Female            0.0     Yes        Yes     0.0   \n",
       "7     3213-VVOLG    Male            0.0     Yes        Yes     0.0   \n",
       "8     4075-WKNIU  Female            0.0     Yes        Yes     0.0   \n",
       "9     4472-LVYGI  Female            0.0     Yes        Yes     0.0   \n",
       "10    2775-SEFEE    Male            0.0      No        Yes     0.0   \n",
       "11    3115-CZMZD    Male            0.0      No        Yes     0.0   \n",
       "338   3165-HDOEW    Male            0.0     Yes        Yes     1.0   \n",
       "632   6894-LFHLY    Male            1.0      No         No     1.0   \n",
       "968   1618-CFHME  Female            0.0      No         No     2.0   \n",
       "2581  6581-NQCBA  Female            0.0     Yes         No    16.0   \n",
       "4625  9767-FFLEM    Male            0.0      No         No    38.0   \n",
       "5621  9091-WTUUY    Male            0.0     Yes        Yes    64.0   \n",
       "6542  1035-IPQPU  Female            1.0     Yes         No    63.0   \n",
       "\n",
       "     PhoneService     MultipleLines InternetService       OnlineSecurity  ...  \\\n",
       "0             Yes                No              No  No internet service  ...   \n",
       "1              No  No phone service             DSL                  Yes  ...   \n",
       "2             Yes                No              No  No internet service  ...   \n",
       "3             Yes               Yes              No  No internet service  ...   \n",
       "4             Yes                No              No  No internet service  ...   \n",
       "5             NaN               NaN             NaN                  NaN  ...   \n",
       "6             Yes                No             DSL                  Yes  ...   \n",
       "7             Yes               Yes              No  No internet service  ...   \n",
       "8             Yes               Yes             DSL                   No  ...   \n",
       "9              No  No phone service             DSL                  Yes  ...   \n",
       "10            Yes               Yes             DSL                  Yes  ...   \n",
       "11            Yes                No              No  No internet service  ...   \n",
       "338           Yes                No             DSL                   No  ...   \n",
       "632           Yes               Yes     Fiber optic                   No  ...   \n",
       "968           Yes               Yes     Fiber optic                   No  ...   \n",
       "2581           No  No phone service             DSL                   No  ...   \n",
       "4625          Yes                No     Fiber_optic                   No  ...   \n",
       "5621          Yes                No             DSL                  Yes  ...   \n",
       "6542          Yes               Yes     Fiber optic                   No  ...   \n",
       "\n",
       "         DeviceProtection          TechSupport          StreamingTV  \\\n",
       "0     No internet service  No internet service  No internet service   \n",
       "1                     Yes                  Yes                  Yes   \n",
       "2     No internet service  No internet service  No internet service   \n",
       "3     No internet service  No internet service  No internet service   \n",
       "4     No internet service  No internet service  No internet service   \n",
       "5                     NaN                  NaN                  NaN   \n",
       "6                     Yes                   No                  Yes   \n",
       "7     No internet service  No internet service  No internet service   \n",
       "8                     Yes                  Yes                  Yes   \n",
       "9                     Yes                  Yes                  Yes   \n",
       "10                     No                  Yes                   No   \n",
       "11    No internet service  No internet service  No internet service   \n",
       "338                    No                   No                   No   \n",
       "632                    No                   No                   No   \n",
       "968                    No                   No                   No   \n",
       "2581                   No                  Yes                  Yes   \n",
       "4625                   No                   No                   No   \n",
       "5621                  Yes                  Yes                  Yes   \n",
       "6542                  Yes                   No                  Yes   \n",
       "\n",
       "          StreamingMovies        Contract PaperlessBilling  \\\n",
       "0     No internet service        Two year               No   \n",
       "1                      No        Two year               No   \n",
       "2     No internet service        Two year               No   \n",
       "3     No internet service        Two year               No   \n",
       "4     No internet service        One year              Yes   \n",
       "5                     NaN             NaN              NaN   \n",
       "6                     Yes        Two year               No   \n",
       "7     No internet service        Two year               No   \n",
       "8                      No        Two year               No   \n",
       "9                      No        Two year              Yes   \n",
       "10                     No        Two year              Yes   \n",
       "11    No internet service        Two year               No   \n",
       "338                    No  Month-to-month              Yes   \n",
       "632                    No  Month-to-month              Yes   \n",
       "968                    No  Month-to-month              Yes   \n",
       "2581                  Yes  Month-to-month              Yes   \n",
       "4625                   No  Month-to-month              Yes   \n",
       "5621                   No        Two year               No   \n",
       "6542                  Yes             NaN              Yes   \n",
       "\n",
       "                  PaymentMethod MonthlyCharges  TotalCharges  Churn  \n",
       "0                  Mailed check      19.850000           NaN     No  \n",
       "1       Credit card (automatic)      56.049999           NaN     No  \n",
       "2                  Mailed check      20.000000           NaN     No  \n",
       "3                  Mailed check      25.750000           NaN     No  \n",
       "4                  Mailed check      19.700001           NaN     No  \n",
       "5                           NaN            NaN           NaN    NaN  \n",
       "6                  Mailed check      80.849998           NaN     No  \n",
       "7                  Mailed check      25.350000           NaN     No  \n",
       "8                  Mailed check      73.349998           NaN     No  \n",
       "9     Bank transfer (automatic)      52.549999           NaN     No  \n",
       "10    Bank transfer (automatic)      61.900002           NaN     No  \n",
       "11                 Mailed check      20.250000           NaN     No  \n",
       "338                         NaN      45.849998     45.849998    Yes  \n",
       "632                         NaN      75.750000     75.750000    Yes  \n",
       "968                         NaN      75.900002    143.350006    Yes  \n",
       "2581                        NaN      49.950001    810.200012    Yes  \n",
       "4625                        NaN      69.500000   2625.250000     No  \n",
       "5621                        NaN      69.250000   4447.750000     No  \n",
       "6542           Electronic check     103.500000   6479.399902     No  \n",
       "\n",
       "[19 rows x 21 columns]"
      ]
     },
     "execution_count": 9,
     "metadata": {},
     "output_type": "execute_result"
    }
   ],
   "source": [
    "df[df.isnull().any(1)] # me dice que filas tienen valores nulos. vemos que la fila 5 es el problema, se puede borrar sin problema"
   ]
  },
  {
   "cell_type": "code",
   "execution_count": 10,
   "metadata": {},
   "outputs": [],
   "source": [
    "df.drop(5, inplace= True) #elimino la fila 5"
   ]
  },
  {
   "cell_type": "code",
   "execution_count": 11,
   "metadata": {},
   "outputs": [],
   "source": [
    "df= df.reset_index() # reinicio el índice y borro el anterior que se generó\n",
    "df.drop(\"index\", axis= 1, inplace= True) "
   ]
  },
  {
   "cell_type": "code",
   "execution_count": 12,
   "metadata": {},
   "outputs": [
    {
     "data": {
      "text/plain": [
       "customerID           0\n",
       "gender               0\n",
       "SeniorCitizen        0\n",
       "Partner              0\n",
       "Dependents           0\n",
       "tenure               0\n",
       "PhoneService         0\n",
       "MultipleLines        0\n",
       "InternetService      0\n",
       "OnlineSecurity       0\n",
       "OnlineBackup         0\n",
       "DeviceProtection     0\n",
       "TechSupport          0\n",
       "StreamingTV          0\n",
       "StreamingMovies      0\n",
       "Contract             1\n",
       "PaperlessBilling     0\n",
       "PaymentMethod        6\n",
       "MonthlyCharges       0\n",
       "TotalCharges        11\n",
       "Churn                0\n",
       "dtype: int64"
      ]
     },
     "execution_count": 12,
     "metadata": {},
     "output_type": "execute_result"
    }
   ],
   "source": [
    "df.isna().sum()"
   ]
  },
  {
   "cell_type": "code",
   "execution_count": 13,
   "metadata": {
    "colab": {
     "base_uri": "https://localhost:8080/"
    },
    "executionInfo": {
     "elapsed": 544,
     "status": "ok",
     "timestamp": 1625667251205,
     "user": {
      "displayName": "juan jose lopez",
      "photoUrl": "",
      "userId": "13685427410952606081"
     },
     "user_tz": 180
    },
    "id": "gFhcncyIzmwy",
    "outputId": "26dfd655-04cc-45e9-8550-d050263e8f41"
   },
   "outputs": [
    {
     "data": {
      "text/plain": [
       "array(['Two year', 'One year', 'Month-to-month', nan], dtype=object)"
      ]
     },
     "execution_count": 13,
     "metadata": {},
     "output_type": "execute_result"
    }
   ],
   "source": [
    "df[\"Contract\"].unique() #se puede borrar el valor nulo restante"
   ]
  },
  {
   "cell_type": "code",
   "execution_count": 14,
   "metadata": {
    "colab": {
     "base_uri": "https://localhost:8080/"
    },
    "executionInfo": {
     "elapsed": 574,
     "status": "ok",
     "timestamp": 1625667260722,
     "user": {
      "displayName": "juan jose lopez",
      "photoUrl": "",
      "userId": "13685427410952606081"
     },
     "user_tz": 180
    },
    "id": "pcjAEPpx5M4i",
    "outputId": "7637c632-7ade-4a29-a7dc-b889f750c308"
   },
   "outputs": [
    {
     "data": {
      "text/plain": [
       "6"
      ]
     },
     "execution_count": 14,
     "metadata": {},
     "output_type": "execute_result"
    }
   ],
   "source": [
    "df[\"PaymentMethod\"].isna().sum()"
   ]
  },
  {
   "cell_type": "code",
   "execution_count": 15,
   "metadata": {
    "colab": {
     "base_uri": "https://localhost:8080/"
    },
    "executionInfo": {
     "elapsed": 617,
     "status": "ok",
     "timestamp": 1625667282780,
     "user": {
      "displayName": "juan jose lopez",
      "photoUrl": "",
      "userId": "13685427410952606081"
     },
     "user_tz": 180
    },
    "id": "9WoVTy5q-GPu",
    "outputId": "e32ec361-b1e9-4945-dae6-094887b8f7b5"
   },
   "outputs": [
    {
     "name": "stdout",
     "output_type": "stream",
     "text": [
      "0.08519096975720573\n"
     ]
    }
   ],
   "source": [
    "prop_faltantes_mp= (df[\"PaymentMethod\"].isna().sum()/len(df[\"PaymentMethod\"]))*100\n",
    "print(prop_faltantes_mp) #se ve que proporcionalmente es irrelevante, se pueden borrar los datos faltantes "
   ]
  },
  {
   "cell_type": "code",
   "execution_count": 16,
   "metadata": {
    "colab": {
     "base_uri": "https://localhost:8080/"
    },
    "executionInfo": {
     "elapsed": 571,
     "status": "ok",
     "timestamp": 1625667287925,
     "user": {
      "displayName": "juan jose lopez",
      "photoUrl": "",
      "userId": "13685427410952606081"
     },
     "user_tz": 180
    },
    "id": "jLBqp6ny-_P_",
    "outputId": "d0ebb811-70a2-4b5d-deb1-eb08e69f9b01"
   },
   "outputs": [
    {
     "data": {
      "text/plain": [
       "11"
      ]
     },
     "execution_count": 16,
     "metadata": {},
     "output_type": "execute_result"
    }
   ],
   "source": [
    "df[\"TotalCharges\"].isna().sum() # me pregunto que hay dentro de la variable"
   ]
  },
  {
   "cell_type": "code",
   "execution_count": 17,
   "metadata": {
    "colab": {
     "base_uri": "https://localhost:8080/",
     "height": 318
    },
    "executionInfo": {
     "elapsed": 1017,
     "status": "ok",
     "timestamp": 1625667406613,
     "user": {
      "displayName": "juan jose lopez",
      "photoUrl": "",
      "userId": "13685427410952606081"
     },
     "user_tz": 180
    },
    "id": "lHcYRncj_kYn",
    "outputId": "c1d2b5ff-32bd-42e2-cbd7-b1f83fce9aa3"
   },
   "outputs": [
    {
     "data": {
      "text/plain": [
       "<AxesSubplot:xlabel='TotalCharges'>"
      ]
     },
     "execution_count": 17,
     "metadata": {},
     "output_type": "execute_result"
    },
    {
     "data": {
      "image/png": "[encoded data removed]",
      "text/plain": [
       "<Figure size 432x288 with 1 Axes>"
      ]
     },
     "metadata": {
      "needs_background": "light"
     },
     "output_type": "display_data"
    }
   ],
   "source": [
    "snb.boxplot(x=\"TotalCharges\" , data=df , palette=\"Set1\",orient=\"h\")"
   ]
  },
  {
   "cell_type": "code",
   "execution_count": 18,
   "metadata": {
    "id": "SpKMMTVaWBlG"
   },
   "outputs": [],
   "source": [
    "df= df.drop(df[df[\"TotalCharges\"] > 600000].index) # filtro el valor maximo para que me quede mejor el boxplot"
   ]
  },
  {
   "cell_type": "code",
   "execution_count": 19,
   "metadata": {
    "colab": {
     "base_uri": "https://localhost:8080/",
     "height": 318
    },
    "executionInfo": {
     "elapsed": 502,
     "status": "ok",
     "timestamp": 1625667718453,
     "user": {
      "displayName": "juan jose lopez",
      "photoUrl": "",
      "userId": "13685427410952606081"
     },
     "user_tz": 180
    },
    "id": "jA1HDtBHWHzh",
    "outputId": "ba7a952b-db21-40ad-9f87-4ff4c0181738"
   },
   "outputs": [
    {
     "data": {
      "text/plain": [
       "<AxesSubplot:xlabel='TotalCharges'>"
      ]
     },
     "execution_count": 19,
     "metadata": {},
     "output_type": "execute_result"
    },
    {
     "data": {
      "image/png": "[encoded data removed]",
      "text/plain": [
       "<Figure size 432x288 with 1 Axes>"
      ]
     },
     "metadata": {
      "needs_background": "light"
     },
     "output_type": "display_data"
    }
   ],
   "source": [
    "snb.boxplot(x=\"TotalCharges\", data=df , palette=\"Set1\",orient=\"h\") # quizas se puede o borrar los datos nulos o reemplazar por la media o mediana"
   ]
  },
  {
   "cell_type": "code",
   "execution_count": 20,
   "metadata": {
    "colab": {
     "base_uri": "https://localhost:8080/"
    },
    "executionInfo": {
     "elapsed": 480,
     "status": "ok",
     "timestamp": 1625668091301,
     "user": {
      "displayName": "juan jose lopez",
      "photoUrl": "",
      "userId": "13685427410952606081"
     },
     "user_tz": 180
    },
    "id": "WqustoHvWaBj",
    "outputId": "f20cd01a-8285-4ab5-f6b5-947ea7c106ee"
   },
   "outputs": [
    {
     "name": "stdout",
     "output_type": "stream",
     "text": [
      "0.15620562340244248\n"
     ]
    }
   ],
   "source": [
    "prop_faltantes_TC= (df[\"TotalCharges\"].isna().sum()/len(df[\"TotalCharges\"]))*100 # proporcionalmente es bajo el impacto de los datos faltantes, se podrían borrar!!\n",
    "print(prop_faltantes_TC)"
   ]
  },
  {
   "cell_type": "code",
   "execution_count": 21,
   "metadata": {
    "id": "joVh_VSAXoQy",
    "tags": []
   },
   "outputs": [],
   "source": [
    "df= df.dropna()"
   ]
  },
  {
   "cell_type": "code",
   "execution_count": 22,
   "metadata": {
    "colab": {
     "base_uri": "https://localhost:8080/",
     "height": 117
    },
    "executionInfo": {
     "elapsed": 1044,
     "status": "ok",
     "timestamp": 1625668234361,
     "user": {
      "displayName": "juan jose lopez",
      "photoUrl": "",
      "userId": "13685427410952606081"
     },
     "user_tz": 180
    },
    "id": "5RQzCH65XvgV",
    "outputId": "c9e52427-7b8b-44b8-bbec-4f155c121c53"
   },
   "outputs": [
    {
     "name": "stdout",
     "output_type": "stream",
     "text": [
      "<class 'pandas.core.frame.DataFrame'>\n",
      "Int64Index: 7024 entries, 11 to 7042\n",
      "Data columns (total 21 columns):\n",
      " #   Column            Non-Null Count  Dtype  \n",
      "---  ------            --------------  -----  \n",
      " 0   customerID        7024 non-null   object \n",
      " 1   gender            7024 non-null   object \n",
      " 2   SeniorCitizen     7024 non-null   float64\n",
      " 3   Partner           7024 non-null   object \n",
      " 4   Dependents        7024 non-null   object \n",
      " 5   tenure            7024 non-null   float64\n",
      " 6   PhoneService      7024 non-null   object \n",
      " 7   MultipleLines     7024 non-null   object \n",
      " 8   InternetService   7024 non-null   object \n",
      " 9   OnlineSecurity    7024 non-null   object \n",
      " 10  OnlineBackup      7024 non-null   object \n",
      " 11  DeviceProtection  7024 non-null   object \n",
      " 12  TechSupport       7024 non-null   object \n",
      " 13  StreamingTV       7024 non-null   object \n",
      " 14  StreamingMovies   7024 non-null   object \n",
      " 15  Contract          7024 non-null   object \n",
      " 16  PaperlessBilling  7024 non-null   object \n",
      " 17  PaymentMethod     7024 non-null   object \n",
      " 18  MonthlyCharges    7024 non-null   float64\n",
      " 19  TotalCharges      7024 non-null   float64\n",
      " 20  Churn             7024 non-null   object \n",
      "dtypes: float64(4), object(17)\n",
      "memory usage: 1.2+ MB\n"
     ]
    }
   ],
   "source": [
    "df.info() # nos queda el dataframe sin valores nulos"
   ]
  },
  {
   "cell_type": "markdown",
   "metadata": {
    "id": "TlqCIO25WNzK"
   },
   "source": [
    "4. ### variables categoricas"
   ]
  },
  {
   "cell_type": "code",
   "execution_count": 23,
   "metadata": {},
   "outputs": [],
   "source": [
    "# definimos las variables categóricas a utilizar\n",
    "categoricals = [\"gender\",\n",
    "                \"SeniorCitizen\", \n",
    "                \"Partner\", \n",
    "                \"Dependents\", \n",
    "                \"PhoneService\", \n",
    "                \"MultipleLines\", \n",
    "                \"InternetService\",\n",
    "                \"OnlineSecurity\",\n",
    "                \"OnlineBackup\",\n",
    "                \"DeviceProtection\",\n",
    "                \"TechSupport\",\n",
    "                \"StreamingTV\",\n",
    "                \"StreamingMovies\",\n",
    "                \"Contract\", \n",
    "                \"PaperlessBilling\", \n",
    "                \"PaymentMethod\"]\n",
    "df_c = df[categoricals]"
   ]
  },
  {
   "cell_type": "code",
   "execution_count": 24,
   "metadata": {
    "colab": {
     "base_uri": "https://localhost:8080/"
    },
    "executionInfo": {
     "elapsed": 538,
     "status": "ok",
     "timestamp": 1625591458509,
     "user": {
      "displayName": "juan jose lopez",
      "photoUrl": "",
      "userId": "13685427410952606081"
     },
     "user_tz": 180
    },
    "id": "8rbpV84MVAfo",
    "outputId": "a1bbe74c-7a0d-4edc-8542-0d84e277dfe6",
    "tags": []
   },
   "outputs": [
    {
     "name": "stdout",
     "output_type": "stream",
     "text": [
      "para gender: ['Male' 'Female']\n",
      "\n",
      "para SeniorCitizen: [0. 1.]\n",
      "\n",
      "para Partner: ['Yes' 'No']\n",
      "\n",
      "para Dependents: ['Yes' 'No']\n",
      "\n",
      "para PhoneService: ['Yes' 'No']\n",
      "\n",
      "para MultipleLines: ['No' 'No phone service' 'Yes']\n",
      "\n",
      "para InternetService: ['No' 'DSL' 'Fiber optic' 'Fiber_optic' '_' 'DLS']\n",
      "\n",
      "para OnlineSecurity: ['No internet service' 'No' 'Yes']\n",
      "\n",
      "para OnlineBackup: ['No internet service' 'No' 'Yes']\n",
      "\n",
      "para DeviceProtection: ['No internet service' 'No' 'Yes']\n",
      "\n",
      "para TechSupport: ['No internet service' 'No' 'Yes']\n",
      "\n",
      "para StreamingTV: ['No internet service' 'No' 'Yes']\n",
      "\n",
      "para StreamingMovies: ['No internet service' 'No' 'Yes']\n",
      "\n",
      "para Contract: ['One year' 'Month-to-month' 'Two year']\n",
      "\n",
      "para PaperlessBilling: ['No' 'Yes']\n",
      "\n",
      "para PaymentMethod: ['Mailed check' 'Electronic check' 'Bank transfer (automatic)'\n",
      " 'Credit card (automatic)']\n",
      "\n",
      "======\n",
      "\n"
     ]
    }
   ],
   "source": [
    "from pprint import pprint\n",
    "\n",
    "def informe_categoricas(df, cols):\n",
    "  # Busco en cada columna los valores unicos:\n",
    "  for x in cols:\n",
    "    print(f\"para {x}: {df[x].unique()}\\n\")\n",
    "\n",
    "  print(\"======\\n\")\n",
    "\n",
    "informe_categoricas(df_c, categoricals)"
   ]
  },
  {
   "cell_type": "markdown",
   "metadata": {},
   "source": [
    "VOY A CREAR DOS COLUMNAS NUEVAS EN EL DATAFRAME: UNA QUE ME RESUMA LA CANTIDAD DE SERVICIOS DE INTERNET Y OTRA QUE ME DIGA SI TIENE INTERNET O TELEFONO O AMBAS\n",
    "LO QUE ME VA A PERMITIR REDUCIR AMPLIAMENTE LA CANTIDAD DE VARIABLES CATEGÓRICAS A UTILIZAR"
   ]
  },
  {
   "cell_type": "code",
   "execution_count": 25,
   "metadata": {},
   "outputs": [],
   "source": [
    "df[\"PhoneService\"].replace({\"Yes\" : 1,  \"No\": 0}, inplace=True) #tengo que transformar las columnas en cero y uno"
   ]
  },
  {
   "cell_type": "code",
   "execution_count": 26,
   "metadata": {
    "id": "ddeMSt94Kvxf"
   },
   "outputs": [],
   "source": [
    "df[\"MultipleLines\"].replace({\"Yes\" : 1,  \"No\": 0, \"No phone service\": 0}, inplace=True) "
   ]
  },
  {
   "cell_type": "code",
   "execution_count": 27,
   "metadata": {},
   "outputs": [],
   "source": [
    "df[\"InternetService\"].replace({\"Fiber optic\": 1, \"DSL\": 1, \"DLS\": 1, \"Fiber_optic\":1, \"No\": 0, \"_\": 0}, inplace=True) #arreglo lo que esta mal"
   ]
  },
  {
   "cell_type": "code",
   "execution_count": 28,
   "metadata": {},
   "outputs": [
    {
     "data": {
      "text/plain": [
       "array([0, 1], dtype=int64)"
      ]
     },
     "execution_count": 28,
     "metadata": {},
     "output_type": "execute_result"
    }
   ],
   "source": [
    "df[\"InternetService\"].unique()"
   ]
  },
  {
   "cell_type": "code",
   "execution_count": 29,
   "metadata": {
    "id": "RG7hiorWKvxg",
    "outputId": "6e9dd715-4144-409e-e26e-8e4dbff21e29"
   },
   "outputs": [],
   "source": [
    "df[\"OnlineSecurity\"].replace({'No internet service': 0, \"No\": 0, \"Yes\": 1}, inplace= True)\n",
    "df[\"OnlineBackup\"].replace({'No internet service': 0, \"No\": 0, \"Yes\": 1}, inplace= True)\n",
    "df[\"DeviceProtection\"].replace({'No internet service': 0, \"No\": 0, \"Yes\": 1}, inplace= True)\n",
    "df[\"TechSupport\"].replace({'No internet service': 0, \"No\": 0, \"Yes\": 1}, inplace= True)\n",
    "df[\"StreamingTV\"].replace({'No internet service': 0, \"No\": 0, \"Yes\": 1}, inplace= True)\n",
    "df[\"StreamingMovies\"].replace({'No internet service': 0, \"No\": 0, \"Yes\": 1}, inplace= True)"
   ]
  },
  {
   "cell_type": "code",
   "execution_count": 30,
   "metadata": {},
   "outputs": [
    {
     "name": "stdout",
     "output_type": "stream",
     "text": [
      "<class 'pandas.core.frame.DataFrame'>\n",
      "Int64Index: 7024 entries, 11 to 7042\n",
      "Data columns (total 21 columns):\n",
      " #   Column            Non-Null Count  Dtype  \n",
      "---  ------            --------------  -----  \n",
      " 0   customerID        7024 non-null   object \n",
      " 1   gender            7024 non-null   object \n",
      " 2   SeniorCitizen     7024 non-null   float64\n",
      " 3   Partner           7024 non-null   object \n",
      " 4   Dependents        7024 non-null   object \n",
      " 5   tenure            7024 non-null   float64\n",
      " 6   PhoneService      7024 non-null   int64  \n",
      " 7   MultipleLines     7024 non-null   int64  \n",
      " 8   InternetService   7024 non-null   int64  \n",
      " 9   OnlineSecurity    7024 non-null   int64  \n",
      " 10  OnlineBackup      7024 non-null   int64  \n",
      " 11  DeviceProtection  7024 non-null   int64  \n",
      " 12  TechSupport       7024 non-null   int64  \n",
      " 13  StreamingTV       7024 non-null   int64  \n",
      " 14  StreamingMovies   7024 non-null   int64  \n",
      " 15  Contract          7024 non-null   object \n",
      " 16  PaperlessBilling  7024 non-null   object \n",
      " 17  PaymentMethod     7024 non-null   object \n",
      " 18  MonthlyCharges    7024 non-null   float64\n",
      " 19  TotalCharges      7024 non-null   float64\n",
      " 20  Churn             7024 non-null   object \n",
      "dtypes: float64(4), int64(9), object(8)\n",
      "memory usage: 1.2+ MB\n"
     ]
    }
   ],
   "source": [
    "df.info() #aca chequeo que me cambio todas las columnas"
   ]
  },
  {
   "cell_type": "code",
   "execution_count": 31,
   "metadata": {},
   "outputs": [],
   "source": [
    "df[\"serviciodeinternet\"]= df[\"InternetService\"]+ df[\"OnlineSecurity\"] + df[\"OnlineBackup\"]+ df[\"DeviceProtection\"]+ df[\"TechSupport\"]+ df[\"StreamingTV\"]+df[\"StreamingMovies\"] \n",
    "#esta variable me cuenta la cantidad de servicios de internet, resumiendo la información de 7 columnas"
   ]
  },
  {
   "cell_type": "code",
   "execution_count": 32,
   "metadata": {},
   "outputs": [
    {
     "data": {
      "text/plain": [
       "0    1520\n",
       "4    1117\n",
       "3    1033\n",
       "2     966\n",
       "5     847\n",
       "1     689\n",
       "6     569\n",
       "7     283\n",
       "Name: serviciodeinternet, dtype: int64"
      ]
     },
     "execution_count": 32,
     "metadata": {},
     "output_type": "execute_result"
    }
   ],
   "source": [
    "df[\"serviciodeinternet\"].value_counts()"
   ]
  },
  {
   "cell_type": "code",
   "execution_count": 33,
   "metadata": {},
   "outputs": [
    {
     "data": {
      "text/plain": [
       "<function matplotlib.pyplot.show(close=None, block=None)>"
      ]
     },
     "execution_count": 33,
     "metadata": {},
     "output_type": "execute_result"
    },
    {
     "data": {
      "image/png": "[encoded data removed]",
      "text/plain": [
       "<Figure size 432x288 with 1 Axes>"
      ]
     },
     "metadata": {
      "needs_background": "light"
     },
     "output_type": "display_data"
    }
   ],
   "source": [
    "plt.hist(df.serviciodeinternet, bins= 8, edgecolor='black')\n",
    "plt.title(\"cantidad de servicios de internet\")\n",
    "plt.show"
   ]
  },
  {
   "cell_type": "code",
   "execution_count": 34,
   "metadata": {},
   "outputs": [],
   "source": [
    "df[\"pack\"]= df[\"PhoneService\"] + df[\"InternetService\"] # me dice si tiene uno o dos servicios principales (internet/telefono)"
   ]
  },
  {
   "cell_type": "code",
   "execution_count": 35,
   "metadata": {},
   "outputs": [
    {
     "data": {
      "text/html": [
       "<div>\n",
       "<style scoped>\n",
       "    .dataframe tbody tr th:only-of-type {\n",
       "        vertical-align: middle;\n",
       "    }\n",
       "\n",
       "    .dataframe tbody tr th {\n",
       "        vertical-align: top;\n",
       "    }\n",
       "\n",
       "    .dataframe thead th {\n",
       "        text-align: right;\n",
       "    }\n",
       "</style>\n",
       "<table border=\"1\" class=\"dataframe\">\n",
       "  <thead>\n",
       "    <tr style=\"text-align: right;\">\n",
       "      <th>serviciodeinternet</th>\n",
       "      <th>0</th>\n",
       "      <th>1</th>\n",
       "      <th>2</th>\n",
       "      <th>3</th>\n",
       "      <th>4</th>\n",
       "      <th>5</th>\n",
       "      <th>6</th>\n",
       "      <th>7</th>\n",
       "    </tr>\n",
       "    <tr>\n",
       "      <th>pack</th>\n",
       "      <th></th>\n",
       "      <th></th>\n",
       "      <th></th>\n",
       "      <th></th>\n",
       "      <th></th>\n",
       "      <th></th>\n",
       "      <th></th>\n",
       "      <th></th>\n",
       "    </tr>\n",
       "  </thead>\n",
       "  <tbody>\n",
       "    <tr>\n",
       "      <th>1</th>\n",
       "      <td>1520</td>\n",
       "      <td>80</td>\n",
       "      <td>114</td>\n",
       "      <td>144</td>\n",
       "      <td>152</td>\n",
       "      <td>95</td>\n",
       "      <td>70</td>\n",
       "      <td>25</td>\n",
       "    </tr>\n",
       "    <tr>\n",
       "      <th>2</th>\n",
       "      <td>0</td>\n",
       "      <td>609</td>\n",
       "      <td>852</td>\n",
       "      <td>889</td>\n",
       "      <td>965</td>\n",
       "      <td>752</td>\n",
       "      <td>499</td>\n",
       "      <td>258</td>\n",
       "    </tr>\n",
       "  </tbody>\n",
       "</table>\n",
       "</div>"
      ],
      "text/plain": [
       "serviciodeinternet     0    1    2    3    4    5    6    7\n",
       "pack                                                       \n",
       "1                   1520   80  114  144  152   95   70   25\n",
       "2                      0  609  852  889  965  752  499  258"
      ]
     },
     "execution_count": 35,
     "metadata": {},
     "output_type": "execute_result"
    }
   ],
   "source": [
    "pd.crosstab(df.pack, df.serviciodeinternet) # esta tabla es importante porque me resume la matriz de \"fidelidad de cliente\""
   ]
  },
  {
   "cell_type": "code",
   "execution_count": 36,
   "metadata": {},
   "outputs": [],
   "source": [
    "df[\"SeniorCitizen\"].replace({1: \"YES\", 0: \"NO\"}, inplace=True) # la redefino como categórica"
   ]
  },
  {
   "cell_type": "markdown",
   "metadata": {},
   "source": [
    "ANALISIS UNIVARIADO DEL RESTO DE LAS VARIABLES CATEGORICAS"
   ]
  },
  {
   "cell_type": "code",
   "execution_count": 37,
   "metadata": {},
   "outputs": [],
   "source": [
    "categoricas_resto = [\"gender\",\n",
    "                \"SeniorCitizen\", \n",
    "                \"Partner\", \n",
    "                \"Dependents\",\n",
    "                \"Contract\", \n",
    "                \"PaperlessBilling\", \n",
    "                \"PaymentMethod\"]\n",
    "df_cate = df[categoricas_resto]"
   ]
  },
  {
   "cell_type": "code",
   "execution_count": 38,
   "metadata": {},
   "outputs": [
    {
     "data": {
      "image/png": "[encoded data removed]",
      "text/plain": [
       "<Figure size 432x288 with 1 Axes>"
      ]
     },
     "metadata": {
      "needs_background": "light"
     },
     "output_type": "display_data"
    },
    {
     "data": {
      "image/png": "[encoded data removed]",
      "text/plain": [
       "<Figure size 432x288 with 1 Axes>"
      ]
     },
     "metadata": {
      "needs_background": "light"
     },
     "output_type": "display_data"
    },
    {
     "data": {
      "image/png": "[encoded data removed]",
      "text/plain": [
       "<Figure size 432x288 with 1 Axes>"
      ]
     },
     "metadata": {
      "needs_background": "light"
     },
     "output_type": "display_data"
    },
    {
     "data": {
      "image/png": "[encoded data removed]",
      "text/plain": [
       "<Figure size 432x288 with 1 Axes>"
      ]
     },
     "metadata": {
      "needs_background": "light"
     },
     "output_type": "display_data"
    },
    {
     "data": {
      "image/png": "[encoded data removed]",
      "text/plain": [
       "<Figure size 432x288 with 1 Axes>"
      ]
     },
     "metadata": {
      "needs_background": "light"
     },
     "output_type": "display_data"
    },
    {
     "data": {
      "image/png": "[encoded data removed]",
      "text/plain": [
       "<Figure size 432x288 with 1 Axes>"
      ]
     },
     "metadata": {
      "needs_background": "light"
     },
     "output_type": "display_data"
    },
    {
     "data": {
      "image/png": "[encoded data removed]",
      "text/plain": [
       "<Figure size 432x288 with 1 Axes>"
      ]
     },
     "metadata": {
      "needs_background": "light"
     },
     "output_type": "display_data"
    }
   ],
   "source": [
    "def countplot(df, columns):\n",
    "    for x in columns:\n",
    "        snb.countplot(x=x, data=df)\n",
    "        plt.show()\n",
    "        \n",
    "countplot(df, columns=df_cate) # grafico las variables categóricas para ver como estan agrupadas"
   ]
  },
  {
   "cell_type": "markdown",
   "metadata": {},
   "source": [
    "ANALISIS UNIVARIADO VARIABLES NUMERICAS"
   ]
  },
  {
   "cell_type": "code",
   "execution_count": 39,
   "metadata": {},
   "outputs": [],
   "source": [
    "numericas= [\n",
    "          \"tenure\",\n",
    "           \"MonthlyCharges\",\n",
    "           \"TotalCharges\",\n",
    "           \"serviciodeinternet\",\n",
    "           \"pack\"]\n",
    "df_num= df[numericas]"
   ]
  },
  {
   "cell_type": "code",
   "execution_count": 40,
   "metadata": {},
   "outputs": [
    {
     "data": {
      "text/html": [
       "<div>\n",
       "<style scoped>\n",
       "    .dataframe tbody tr th:only-of-type {\n",
       "        vertical-align: middle;\n",
       "    }\n",
       "\n",
       "    .dataframe tbody tr th {\n",
       "        vertical-align: top;\n",
       "    }\n",
       "\n",
       "    .dataframe thead th {\n",
       "        text-align: right;\n",
       "    }\n",
       "</style>\n",
       "<table border=\"1\" class=\"dataframe\">\n",
       "  <thead>\n",
       "    <tr style=\"text-align: right;\">\n",
       "      <th></th>\n",
       "      <th>tenure</th>\n",
       "      <th>MonthlyCharges</th>\n",
       "      <th>TotalCharges</th>\n",
       "      <th>serviciodeinternet</th>\n",
       "      <th>pack</th>\n",
       "    </tr>\n",
       "  </thead>\n",
       "  <tbody>\n",
       "    <tr>\n",
       "      <th>count</th>\n",
       "      <td>7024.000000</td>\n",
       "      <td>7024.000000</td>\n",
       "      <td>7024.000000</td>\n",
       "      <td>7024.000000</td>\n",
       "      <td>7024.000000</td>\n",
       "    </tr>\n",
       "    <tr>\n",
       "      <th>mean</th>\n",
       "      <td>32.422124</td>\n",
       "      <td>64.785585</td>\n",
       "      <td>2282.611803</td>\n",
       "      <td>2.821469</td>\n",
       "      <td>1.686788</td>\n",
       "    </tr>\n",
       "    <tr>\n",
       "      <th>std</th>\n",
       "      <td>24.539807</td>\n",
       "      <td>30.090981</td>\n",
       "      <td>2265.652526</td>\n",
       "      <td>2.112193</td>\n",
       "      <td>0.463833</td>\n",
       "    </tr>\n",
       "    <tr>\n",
       "      <th>min</th>\n",
       "      <td>1.000000</td>\n",
       "      <td>18.250000</td>\n",
       "      <td>0.000000</td>\n",
       "      <td>0.000000</td>\n",
       "      <td>1.000000</td>\n",
       "    </tr>\n",
       "    <tr>\n",
       "      <th>25%</th>\n",
       "      <td>9.000000</td>\n",
       "      <td>35.537499</td>\n",
       "      <td>401.762505</td>\n",
       "      <td>1.000000</td>\n",
       "      <td>1.000000</td>\n",
       "    </tr>\n",
       "    <tr>\n",
       "      <th>50%</th>\n",
       "      <td>29.000000</td>\n",
       "      <td>70.349998</td>\n",
       "      <td>1397.475037</td>\n",
       "      <td>3.000000</td>\n",
       "      <td>2.000000</td>\n",
       "    </tr>\n",
       "    <tr>\n",
       "      <th>75%</th>\n",
       "      <td>55.000000</td>\n",
       "      <td>89.862499</td>\n",
       "      <td>3792.325073</td>\n",
       "      <td>4.000000</td>\n",
       "      <td>2.000000</td>\n",
       "    </tr>\n",
       "    <tr>\n",
       "      <th>max</th>\n",
       "      <td>72.000000</td>\n",
       "      <td>118.750000</td>\n",
       "      <td>8684.799805</td>\n",
       "      <td>7.000000</td>\n",
       "      <td>2.000000</td>\n",
       "    </tr>\n",
       "  </tbody>\n",
       "</table>\n",
       "</div>"
      ],
      "text/plain": [
       "            tenure  MonthlyCharges  TotalCharges  serviciodeinternet  \\\n",
       "count  7024.000000     7024.000000   7024.000000         7024.000000   \n",
       "mean     32.422124       64.785585   2282.611803            2.821469   \n",
       "std      24.539807       30.090981   2265.652526            2.112193   \n",
       "min       1.000000       18.250000      0.000000            0.000000   \n",
       "25%       9.000000       35.537499    401.762505            1.000000   \n",
       "50%      29.000000       70.349998   1397.475037            3.000000   \n",
       "75%      55.000000       89.862499   3792.325073            4.000000   \n",
       "max      72.000000      118.750000   8684.799805            7.000000   \n",
       "\n",
       "              pack  \n",
       "count  7024.000000  \n",
       "mean      1.686788  \n",
       "std       0.463833  \n",
       "min       1.000000  \n",
       "25%       1.000000  \n",
       "50%       2.000000  \n",
       "75%       2.000000  \n",
       "max       2.000000  "
      ]
     },
     "execution_count": 40,
     "metadata": {},
     "output_type": "execute_result"
    }
   ],
   "source": [
    "df_num.describe()"
   ]
  },
  {
   "cell_type": "raw",
   "metadata": {},
   "source": [
    "5. ANÁLISIS MULTIVARIADO. (se define qué columnas resultan relevantes para predecir el potencial abandono de clientes)"
   ]
  },
  {
   "cell_type": "markdown",
   "metadata": {},
   "source": [
    "5.A VARIABLES NUMERICAS"
   ]
  },
  {
   "cell_type": "code",
   "execution_count": 41,
   "metadata": {},
   "outputs": [
    {
     "data": {
      "text/plain": [
       "No     5159\n",
       "Yes    1865\n",
       "Name: Churn, dtype: int64"
      ]
     },
     "execution_count": 41,
     "metadata": {},
     "output_type": "execute_result"
    }
   ],
   "source": [
    "df[\"Churn\"].value_counts() # esta es nuestra varible objetivo!! nuestra variable a predecir"
   ]
  },
  {
   "cell_type": "code",
   "execution_count": 42,
   "metadata": {},
   "outputs": [
    {
     "data": {
      "text/plain": [
       "<AxesSubplot:>"
      ]
     },
     "execution_count": 42,
     "metadata": {},
     "output_type": "execute_result"
    },
    {
     "data": {
      "image/png": "[encoded data removed]",
      "text/plain": [
       "<Figure size 432x288 with 2 Axes>"
      ]
     },
     "metadata": {
      "needs_background": "light"
     },
     "output_type": "display_data"
    }
   ],
   "source": [
    "corr = df_num.corr()# plot the heatmap\n",
    "snb.heatmap(corr, xticklabels=corr.columns, yticklabels=corr.columns, annot=True, cmap=snb.diverging_palette(220, 20, as_cmap=True))"
   ]
  },
  {
   "cell_type": "markdown",
   "metadata": {},
   "source": [
    "# algunas conclusiones que se derivan de la matriz de correlacion (algunas se pueden deducir sin la necesidad de la matriz, pero sirve para corroborar):\n",
    "-las personas con mayor pago mensual son las que tienen internet y teléfono, y dentro de internet la mayor cantidad de servicios.\n",
    "-las personas con mayor tiempo en la empresa tienen correlación fuerte positiva con los gastos totales y los gastos mensuales\n",
    "-los gastos totales es función del tiempo en la empresa y de los gastos mensuales, por lo que podría ser dejada de lado"
   ]
  },
  {
   "cell_type": "code",
   "execution_count": 43,
   "metadata": {},
   "outputs": [
    {
     "data": {
      "text/plain": [
       "<AxesSubplot:xlabel='tenure', ylabel='Churn'>"
      ]
     },
     "execution_count": 43,
     "metadata": {},
     "output_type": "execute_result"
    },
    {
     "data": {
      "image/png": "[encoded data removed]",
      "text/plain": [
       "<Figure size 432x288 with 1 Axes>"
      ]
     },
     "metadata": {
      "needs_background": "light"
     },
     "output_type": "display_data"
    }
   ],
   "source": [
    "snb.boxplot(x=\"tenure\", y=\"Churn\", data=df) # aca se puede ver que los que dejan tienen un tiempo mucho menor de pertenencia en la empresa"
   ]
  },
  {
   "cell_type": "code",
   "execution_count": 44,
   "metadata": {},
   "outputs": [
    {
     "data": {
      "text/plain": [
       "<AxesSubplot:xlabel='TotalCharges', ylabel='Churn'>"
      ]
     },
     "execution_count": 44,
     "metadata": {},
     "output_type": "execute_result"
    },
    {
     "data": {
      "image/png": "[encoded data removed]",
      "text/plain": [
       "<Figure size 432x288 with 1 Axes>"
      ]
     },
     "metadata": {
      "needs_background": "light"
     },
     "output_type": "display_data"
    }
   ],
   "source": [
    "snb.boxplot(x=\"TotalCharges\", y=\"Churn\", data=df) # como el tiempo en la empresa y el cobro total estan correlacionados positivamente, es de esperar este resultado"
   ]
  },
  {
   "cell_type": "code",
   "execution_count": 45,
   "metadata": {},
   "outputs": [
    {
     "data": {
      "text/plain": [
       "<AxesSubplot:xlabel='MonthlyCharges', ylabel='Churn'>"
      ]
     },
     "execution_count": 45,
     "metadata": {},
     "output_type": "execute_result"
    },
    {
     "data": {
      "image/png": "[encoded data removed]",
      "text/plain": [
       "<Figure size 432x288 with 1 Axes>"
      ]
     },
     "metadata": {
      "needs_background": "light"
     },
     "output_type": "display_data"
    }
   ],
   "source": [
    "snb.boxplot(x=\"MonthlyCharges\", y=\"Churn\", data=df) # la mediana de los que dejan la empresa es mayor a los que contiuan"
   ]
  },
  {
   "cell_type": "code",
   "execution_count": 46,
   "metadata": {},
   "outputs": [
    {
     "data": {
      "text/plain": [
       "<AxesSubplot:xlabel='pack', ylabel='Churn'>"
      ]
     },
     "execution_count": 46,
     "metadata": {},
     "output_type": "execute_result"
    },
    {
     "data": {
      "image/png": "[encoded data removed]",
      "text/plain": [
       "<Figure size 432x288 with 1 Axes>"
      ]
     },
     "metadata": {
      "needs_background": "light"
     },
     "output_type": "display_data"
    }
   ],
   "source": [
    "snb.heatmap(pd.crosstab(df.Churn, df.pack, normalize='columns'),\n",
    "            cmap=\"YlGnBu\", annot=True, cbar=False) # en este caso no parece haber una relacion clara entre los que dejan y los principales servicios(telefono, internet)"
   ]
  },
  {
   "cell_type": "code",
   "execution_count": 47,
   "metadata": {},
   "outputs": [
    {
     "data": {
      "text/plain": [
       "<AxesSubplot:xlabel='serviciodeinternet', ylabel='Churn'>"
      ]
     },
     "execution_count": 47,
     "metadata": {},
     "output_type": "execute_result"
    },
    {
     "data": {
      "image/png": "[encoded data removed]",
      "text/plain": [
       "<Figure size 432x288 with 1 Axes>"
      ]
     },
     "metadata": {
      "needs_background": "light"
     },
     "output_type": "display_data"
    }
   ],
   "source": [
    "snb.heatmap(pd.crosstab(df.Churn, df.serviciodeinternet, normalize='columns'),\n",
    "            cmap=\"YlGnBu\", annot=True, cbar=False) \n",
    "# aca se puede ver una relación interesante, las personas que permanecen tienen los servicios de internet completos, mientas que las que dejaron tienen en su\n",
    "#mayoría uno o dos servicios"
   ]
  },
  {
   "cell_type": "markdown",
   "metadata": {},
   "source": [
    "5.B VARIABLES CATEGÓRICAS"
   ]
  },
  {
   "cell_type": "markdown",
   "metadata": {},
   "source": [
    "1.genero"
   ]
  },
  {
   "cell_type": "code",
   "execution_count": 48,
   "metadata": {},
   "outputs": [
    {
     "data": {
      "image/png": "[encoded data removed]",
      "text/plain": [
       "<Figure size 432x288 with 1 Axes>"
      ]
     },
     "metadata": {
      "needs_background": "light"
     },
     "output_type": "display_data"
    }
   ],
   "source": [
    "plot = pd.crosstab(index=df['Churn'],\n",
    "            columns=df['gender']\n",
    "                  ).apply(lambda r: r/r.sum() *100,\n",
    "                          axis=0).plot(kind='bar', stacked=True) # al parecer la variable género no sería un elemento que influya a la hora de permanecer o no en la empresa"
   ]
  },
  {
   "cell_type": "code",
   "execution_count": 49,
   "metadata": {},
   "outputs": [
    {
     "data": {
      "text/plain": [
       "<AxesSubplot:xlabel='MonthlyCharges', ylabel='gender'>"
      ]
     },
     "execution_count": 49,
     "metadata": {},
     "output_type": "execute_result"
    },
    {
     "data": {
      "image/png": "[encoded data removed]",
      "text/plain": [
       "<Figure size 432x288 with 1 Axes>"
      ]
     },
     "metadata": {
      "needs_background": "light"
     },
     "output_type": "display_data"
    }
   ],
   "source": [
    "snb.boxplot(x=\"MonthlyCharges\", y=\"gender\", data=df) # tienen una distribución similar en cuanto a gastos mensuales\n",
    "#por lo anterior la variable género no será tenida en cuenta en el análisis"
   ]
  },
  {
   "cell_type": "markdown",
   "metadata": {},
   "source": [
    "2. SeniorCitizen"
   ]
  },
  {
   "cell_type": "code",
   "execution_count": 50,
   "metadata": {},
   "outputs": [
    {
     "data": {
      "image/png": "[encoded data removed]",
      "text/plain": [
       "<Figure size 432x288 with 2 Axes>"
      ]
     },
     "metadata": {},
     "output_type": "display_data"
    }
   ],
   "source": [
    "plot = pd.crosstab(index=df['Churn'],\n",
    "            columns=df['SeniorCitizen']\n",
    "                  ).apply(lambda r: r/r.sum() *100,\n",
    "                          axis=0).plot(kind='pie', stacked=True, subplots=True, autopct='%.2f')"
   ]
  },
  {
   "cell_type": "code",
   "execution_count": 51,
   "metadata": {},
   "outputs": [
    {
     "data": {
      "text/html": [
       "<div>\n",
       "<style scoped>\n",
       "    .dataframe tbody tr th:only-of-type {\n",
       "        vertical-align: middle;\n",
       "    }\n",
       "\n",
       "    .dataframe tbody tr th {\n",
       "        vertical-align: top;\n",
       "    }\n",
       "\n",
       "    .dataframe thead th {\n",
       "        text-align: right;\n",
       "    }\n",
       "</style>\n",
       "<table border=\"1\" class=\"dataframe\">\n",
       "  <thead>\n",
       "    <tr style=\"text-align: right;\">\n",
       "      <th>Churn</th>\n",
       "      <th>No</th>\n",
       "      <th>Yes</th>\n",
       "    </tr>\n",
       "    <tr>\n",
       "      <th>SeniorCitizen</th>\n",
       "      <th></th>\n",
       "      <th></th>\n",
       "    </tr>\n",
       "  </thead>\n",
       "  <tbody>\n",
       "    <tr>\n",
       "      <th>NO</th>\n",
       "      <td>4495</td>\n",
       "      <td>1390</td>\n",
       "    </tr>\n",
       "    <tr>\n",
       "      <th>YES</th>\n",
       "      <td>664</td>\n",
       "      <td>475</td>\n",
       "    </tr>\n",
       "  </tbody>\n",
       "</table>\n",
       "</div>"
      ],
      "text/plain": [
       "Churn            No   Yes\n",
       "SeniorCitizen            \n",
       "NO             4495  1390\n",
       "YES             664   475"
      ]
     },
     "execution_count": 51,
     "metadata": {},
     "output_type": "execute_result"
    }
   ],
   "source": [
    "pd.crosstab(df.SeniorCitizen, df.Churn)#proporcionalmente es mayor la gente jubilada que abandona la empresa, este cálculo se refleja en el gráfico de torta anterior"
   ]
  },
  {
   "cell_type": "code",
   "execution_count": 52,
   "metadata": {},
   "outputs": [
    {
     "data": {
      "text/plain": [
       "<AxesSubplot:xlabel='MonthlyCharges', ylabel='SeniorCitizen'>"
      ]
     },
     "execution_count": 52,
     "metadata": {},
     "output_type": "execute_result"
    },
    {
     "data": {
      "image/png": "[encoded data removed]",
      "text/plain": [
       "<Figure size 432x288 with 1 Axes>"
      ]
     },
     "metadata": {
      "needs_background": "light"
     },
     "output_type": "display_data"
    }
   ],
   "source": [
    "snb.boxplot(x=\"MonthlyCharges\", y=\"SeniorCitizen\", data=df) # los \"jubilados\" tienen en promedio gastos mensuales mayor a los que no lo son"
   ]
  },
  {
   "cell_type": "markdown",
   "metadata": {},
   "source": [
    "3.Partner"
   ]
  },
  {
   "cell_type": "code",
   "execution_count": 53,
   "metadata": {},
   "outputs": [
    {
     "data": {
      "image/png": "[encoded data removed]",
      "text/plain": [
       "<Figure size 432x288 with 2 Axes>"
      ]
     },
     "metadata": {},
     "output_type": "display_data"
    }
   ],
   "source": [
    "plot = pd.crosstab(index=df['Churn'], #las personas que han dejado la empresa son en proporción mas alta las que no estan en \"partner\"\n",
    "            columns=df['Partner']\n",
    "                  ).apply(lambda r: r/r.sum() *100,\n",
    "                          axis=0).plot(kind='pie', stacked=True, subplots=True, autopct='%.2f') "
   ]
  },
  {
   "cell_type": "code",
   "execution_count": 54,
   "metadata": {},
   "outputs": [
    {
     "data": {
      "text/plain": [
       "<AxesSubplot:xlabel='MonthlyCharges', ylabel='Partner'>"
      ]
     },
     "execution_count": 54,
     "metadata": {},
     "output_type": "execute_result"
    },
    {
     "data": {
      "image/png": "[encoded data removed]",
      "text/plain": [
       "<Figure size 432x288 with 1 Axes>"
      ]
     },
     "metadata": {
      "needs_background": "light"
     },
     "output_type": "display_data"
    }
   ],
   "source": [
    "snb.boxplot(x=\"MonthlyCharges\", y=\"Partner\", data=df) # estas personas tienen en promedio un gasto mensual mas elevado"
   ]
  },
  {
   "cell_type": "code",
   "execution_count": 55,
   "metadata": {},
   "outputs": [
    {
     "data": {
      "text/plain": [
       "<AxesSubplot:xlabel='serviciodeinternet', ylabel='Partner'>"
      ]
     },
     "execution_count": 55,
     "metadata": {},
     "output_type": "execute_result"
    },
    {
     "data": {
      "image/png": "[encoded data removed]",
      "text/plain": [
       "<Figure size 432x288 with 1 Axes>"
      ]
     },
     "metadata": {
      "needs_background": "light"
     },
     "output_type": "display_data"
    }
   ],
   "source": [
    "snb.heatmap(pd.crosstab(df.Partner, df.serviciodeinternet, normalize='columns'),\n",
    "            cmap=\"YlGnBu\", annot=True, cbar=False) # este gráfico nos da una idea de que las personas en pareja tiene mayor cantidad de servicios que las que no lo están"
   ]
  },
  {
   "cell_type": "markdown",
   "metadata": {},
   "source": [
    "4. Dependents"
   ]
  },
  {
   "cell_type": "code",
   "execution_count": 56,
   "metadata": {},
   "outputs": [
    {
     "data": {
      "image/png": "[encoded data removed]",
      "text/plain": [
       "<Figure size 432x288 with 2 Axes>"
      ]
     },
     "metadata": {},
     "output_type": "display_data"
    }
   ],
   "source": [
    "plot = pd.crosstab(index=df['Churn'], #las personas que han dejado la empresa son en proporción mas alta las que no tienen personas a cargo\n",
    "                   columns=df['Dependents']\n",
    "                  ).apply(lambda r: r/r.sum() *100,\n",
    "                          axis=0).plot(kind='pie', stacked=True, subplots=True, autopct='%.2f') "
   ]
  },
  {
   "cell_type": "code",
   "execution_count": 57,
   "metadata": {},
   "outputs": [
    {
     "data": {
      "image/png": "[encoded data removed]",
      "text/plain": [
       "<Figure size 432x288 with 1 Axes>"
      ]
     },
     "metadata": {
      "needs_background": "light"
     },
     "output_type": "display_data"
    }
   ],
   "source": [
    "plot = pd.crosstab(index=df[\"Dependents\"],\n",
    "            columns=df['Churn']\n",
    "                  ).apply(lambda r: r/r.sum() *100,\n",
    "                          axis=0).plot(kind='bar', stacked=True)"
   ]
  },
  {
   "cell_type": "code",
   "execution_count": 58,
   "metadata": {},
   "outputs": [
    {
     "data": {
      "text/plain": [
       "<AxesSubplot:xlabel='MonthlyCharges', ylabel='Dependents'>"
      ]
     },
     "execution_count": 58,
     "metadata": {},
     "output_type": "execute_result"
    },
    {
     "data": {
      "image/png": "[encoded data removed]",
      "text/plain": [
       "<Figure size 432x288 with 1 Axes>"
      ]
     },
     "metadata": {
      "needs_background": "light"
     },
     "output_type": "display_data"
    }
   ],
   "source": [
    "snb.boxplot(x=\"MonthlyCharges\", y=\"Dependents\", data=df) # tiene un gasto proporcionalmente menor los que tienen personas a cargo"
   ]
  },
  {
   "cell_type": "markdown",
   "metadata": {},
   "source": [
    "4. Contract"
   ]
  },
  {
   "cell_type": "code",
   "execution_count": 59,
   "metadata": {},
   "outputs": [
    {
     "data": {
      "image/png": "[encoded data removed]",
      "text/plain": [
       "<Figure size 432x288 with 1 Axes>"
      ]
     },
     "metadata": {
      "needs_background": "light"
     },
     "output_type": "display_data"
    }
   ],
   "source": [
    "plot = pd.crosstab(index=df['Contract'], # las personas con contratos cortos es más facil que deje la empresa\n",
    "            columns=df['Churn']      # esta variable es de alta importancia para nuestro caso de análisis a simple vista\n",
    "                  ).apply(lambda r: r/r.sum() *100, \n",
    "                          axis=0).plot(kind='bar', stacked=True)  "
   ]
  },
  {
   "cell_type": "markdown",
   "metadata": {},
   "source": [
    "5.PaperlessBilling"
   ]
  },
  {
   "cell_type": "code",
   "execution_count": 60,
   "metadata": {},
   "outputs": [
    {
     "data": {
      "image/png": "[encoded data removed]",
      "text/plain": [
       "<Figure size 432x288 with 1 Axes>"
      ]
     },
     "metadata": {
      "needs_background": "light"
     },
     "output_type": "display_data"
    }
   ],
   "source": [
    "plot = pd.crosstab(index=df['Churn'], \n",
    "            columns=df['PaperlessBilling']     \n",
    "                  ).apply(lambda r: r/r.sum() *100, \n",
    "                          axis=0).plot(kind='bar', stacked=True)  "
   ]
  },
  {
   "cell_type": "code",
   "execution_count": 61,
   "metadata": {},
   "outputs": [
    {
     "data": {
      "text/plain": [
       "<AxesSubplot:xlabel='serviciodeinternet', ylabel='PaperlessBilling'>"
      ]
     },
     "execution_count": 61,
     "metadata": {},
     "output_type": "execute_result"
    },
    {
     "data": {
      "image/png": "[encoded data removed]",
      "text/plain": [
       "<Figure size 432x288 with 1 Axes>"
      ]
     },
     "metadata": {
      "needs_background": "light"
     },
     "output_type": "display_data"
    }
   ],
   "source": [
    "snb.heatmap(pd.crosstab(df.PaperlessBilling, df.serviciodeinternet, normalize='columns'),\n",
    "            cmap=\"YlGnBu\", annot=True, cbar=False) ## las personas con boleta electronica contratan mucho más servicios de internet en cantidad"
   ]
  },
  {
   "cell_type": "code",
   "execution_count": 62,
   "metadata": {},
   "outputs": [
    {
     "data": {
      "text/plain": [
       "<AxesSubplot:xlabel='MonthlyCharges', ylabel='PaperlessBilling'>"
      ]
     },
     "execution_count": 62,
     "metadata": {},
     "output_type": "execute_result"
    },
    {
     "data": {
      "image/png": "[encoded data removed]",
      "text/plain": [
       "<Figure size 432x288 with 1 Axes>"
      ]
     },
     "metadata": {
      "needs_background": "light"
     },
     "output_type": "display_data"
    }
   ],
   "source": [
    "snb.boxplot(x=\"MonthlyCharges\", y=\"PaperlessBilling\", data=df) #proporcionalmente las personas con boleta electrónica tienen un gasto mensual mayor a las que no"
   ]
  },
  {
   "cell_type": "markdown",
   "metadata": {},
   "source": [
    "6. PatmentMethod"
   ]
  },
  {
   "cell_type": "code",
   "execution_count": 63,
   "metadata": {},
   "outputs": [
    {
     "data": {
      "image/png": "[encoded data removed]",
      "text/plain": [
       "<Figure size 432x288 with 1 Axes>"
      ]
     },
     "metadata": {
      "needs_background": "light"
     },
     "output_type": "display_data"
    }
   ],
   "source": [
    "plot = pd.crosstab(index=df['PaymentMethod'],\n",
    "            columns=df['Churn']\n",
    "                  ).apply(lambda r: r/r.sum() *100,\n",
    "            axis=0).plot(kind='bar', stacked=True) # las peronas con metodo de pago electrónico son las que tienen menor propabilidad de dejar la empresa\n"
   ]
  },
  {
   "cell_type": "markdown",
   "metadata": {},
   "source": [
    "6. SELECCION DE COLUMNAS RELEVANTES PARA EL CASO DE ANALISIS, en base a lo analizado previamente"
   ]
  },
  {
   "cell_type": "code",
   "execution_count": 64,
   "metadata": {},
   "outputs": [],
   "source": [
    "seleccion= [\"customerID\",\n",
    "            \"SeniorCitizen\",\n",
    "            \"Partner\", \n",
    "            \"Dependents\",\n",
    "            \"Contract\",\n",
    "            \"PaymentMethod\",\n",
    "            \"tenure\",\n",
    "            \"PaperlessBilling\",\n",
    "            \"MonthlyCharges\",\n",
    "           \"serviciodeinternet\",\n",
    "           \"pack\"\n",
    "           ]\n",
    "df_seleccion= df[seleccion]"
   ]
  },
  {
   "cell_type": "code",
   "execution_count": 65,
   "metadata": {},
   "outputs": [
    {
     "data": {
      "text/html": [
       "<div>\n",
       "<style scoped>\n",
       "    .dataframe tbody tr th:only-of-type {\n",
       "        vertical-align: middle;\n",
       "    }\n",
       "\n",
       "    .dataframe tbody tr th {\n",
       "        vertical-align: top;\n",
       "    }\n",
       "\n",
       "    .dataframe thead th {\n",
       "        text-align: right;\n",
       "    }\n",
       "</style>\n",
       "<table border=\"1\" class=\"dataframe\">\n",
       "  <thead>\n",
       "    <tr style=\"text-align: right;\">\n",
       "      <th></th>\n",
       "      <th>customerID</th>\n",
       "      <th>SeniorCitizen</th>\n",
       "      <th>Partner</th>\n",
       "      <th>Dependents</th>\n",
       "      <th>Contract</th>\n",
       "      <th>PaymentMethod</th>\n",
       "      <th>tenure</th>\n",
       "      <th>PaperlessBilling</th>\n",
       "      <th>MonthlyCharges</th>\n",
       "      <th>serviciodeinternet</th>\n",
       "      <th>pack</th>\n",
       "    </tr>\n",
       "  </thead>\n",
       "  <tbody>\n",
       "    <tr>\n",
       "      <th>11</th>\n",
       "      <td>2967-MXRAV</td>\n",
       "      <td>NO</td>\n",
       "      <td>Yes</td>\n",
       "      <td>Yes</td>\n",
       "      <td>One year</td>\n",
       "      <td>Mailed check</td>\n",
       "      <td>1.0</td>\n",
       "      <td>No</td>\n",
       "      <td>18.799999</td>\n",
       "      <td>0</td>\n",
       "      <td>1</td>\n",
       "    </tr>\n",
       "    <tr>\n",
       "      <th>12</th>\n",
       "      <td>9318-NKNFC</td>\n",
       "      <td>NO</td>\n",
       "      <td>No</td>\n",
       "      <td>No</td>\n",
       "      <td>Month-to-month</td>\n",
       "      <td>Mailed check</td>\n",
       "      <td>1.0</td>\n",
       "      <td>Yes</td>\n",
       "      <td>18.850000</td>\n",
       "      <td>0</td>\n",
       "      <td>1</td>\n",
       "    </tr>\n",
       "    <tr>\n",
       "      <th>13</th>\n",
       "      <td>8992-CEUEN</td>\n",
       "      <td>NO</td>\n",
       "      <td>No</td>\n",
       "      <td>No</td>\n",
       "      <td>Month-to-month</td>\n",
       "      <td>Electronic check</td>\n",
       "      <td>1.0</td>\n",
       "      <td>No</td>\n",
       "      <td>18.850000</td>\n",
       "      <td>0</td>\n",
       "      <td>1</td>\n",
       "    </tr>\n",
       "    <tr>\n",
       "      <th>14</th>\n",
       "      <td>9975-SKRNR</td>\n",
       "      <td>NO</td>\n",
       "      <td>No</td>\n",
       "      <td>No</td>\n",
       "      <td>Month-to-month</td>\n",
       "      <td>Mailed check</td>\n",
       "      <td>1.0</td>\n",
       "      <td>No</td>\n",
       "      <td>18.900000</td>\n",
       "      <td>0</td>\n",
       "      <td>1</td>\n",
       "    </tr>\n",
       "    <tr>\n",
       "      <th>15</th>\n",
       "      <td>1423-BMPBQ</td>\n",
       "      <td>NO</td>\n",
       "      <td>Yes</td>\n",
       "      <td>Yes</td>\n",
       "      <td>Month-to-month</td>\n",
       "      <td>Mailed check</td>\n",
       "      <td>1.0</td>\n",
       "      <td>Yes</td>\n",
       "      <td>19.000000</td>\n",
       "      <td>0</td>\n",
       "      <td>1</td>\n",
       "    </tr>\n",
       "  </tbody>\n",
       "</table>\n",
       "</div>"
      ],
      "text/plain": [
       "    customerID SeniorCitizen Partner Dependents        Contract  \\\n",
       "11  2967-MXRAV            NO     Yes        Yes        One year   \n",
       "12  9318-NKNFC            NO      No         No  Month-to-month   \n",
       "13  8992-CEUEN            NO      No         No  Month-to-month   \n",
       "14  9975-SKRNR            NO      No         No  Month-to-month   \n",
       "15  1423-BMPBQ            NO     Yes        Yes  Month-to-month   \n",
       "\n",
       "       PaymentMethod  tenure PaperlessBilling  MonthlyCharges  \\\n",
       "11      Mailed check     1.0               No       18.799999   \n",
       "12      Mailed check     1.0              Yes       18.850000   \n",
       "13  Electronic check     1.0               No       18.850000   \n",
       "14      Mailed check     1.0               No       18.900000   \n",
       "15      Mailed check     1.0              Yes       19.000000   \n",
       "\n",
       "    serviciodeinternet  pack  \n",
       "11                   0     1  \n",
       "12                   0     1  \n",
       "13                   0     1  \n",
       "14                   0     1  \n",
       "15                   0     1  "
      ]
     },
     "execution_count": 65,
     "metadata": {},
     "output_type": "execute_result"
    }
   ],
   "source": [
    "df_seleccion.head()"
   ]
  },
  {
   "cell_type": "code",
   "execution_count": 66,
   "metadata": {},
   "outputs": [
    {
     "name": "stdout",
     "output_type": "stream",
     "text": [
      "<class 'pandas.core.frame.DataFrame'>\n",
      "Int64Index: 7024 entries, 11 to 7042\n",
      "Data columns (total 11 columns):\n",
      " #   Column              Non-Null Count  Dtype  \n",
      "---  ------              --------------  -----  \n",
      " 0   customerID          7024 non-null   object \n",
      " 1   SeniorCitizen       7024 non-null   object \n",
      " 2   Partner             7024 non-null   object \n",
      " 3   Dependents          7024 non-null   object \n",
      " 4   Contract            7024 non-null   object \n",
      " 5   PaymentMethod       7024 non-null   object \n",
      " 6   tenure              7024 non-null   float64\n",
      " 7   PaperlessBilling    7024 non-null   object \n",
      " 8   MonthlyCharges      7024 non-null   float64\n",
      " 9   serviciodeinternet  7024 non-null   int64  \n",
      " 10  pack                7024 non-null   int64  \n",
      "dtypes: float64(2), int64(2), object(7)\n",
      "memory usage: 916.5+ KB\n"
     ]
    }
   ],
   "source": [
    "df_seleccion.info()"
   ]
  },
  {
   "cell_type": "code",
   "execution_count": null,
   "metadata": {},
   "outputs": [],
   "source": []
  }
 ],
 "metadata": {
  "colab": {
   "collapsed_sections": [],
   "name": "TP Juanjo.ipynb",
   "provenance": []
  },
  "kernelspec": {
   "display_name": "Python 3",
   "language": "python",
   "name": "python3"
  },
  "language_info": {
   "codemirror_mode": {
    "name": "ipython",
    "version": 3
   },
   "file_extension": ".py",
   "mimetype": "text/x-python",
   "name": "python",
   "nbconvert_exporter": "python",
   "pygments_lexer": "ipython3",
   "version": "3.9.4"
  }
 },
 "nbformat": 4,
 "nbformat_minor": 4
}
